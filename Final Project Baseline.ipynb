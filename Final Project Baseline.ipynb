{
 "cells": [
  {
   "cell_type": "code",
   "execution_count": 13,
   "metadata": {},
   "outputs": [],
   "source": [
    "import pandas as pd\n",
    "import numpy as np\n",
    "\n",
    "from sklearn.ensemble import RandomForestClassifier\n",
    "from sklearn import metrics\n",
    "from sklearn.neighbors import KNeighborsClassifier\n",
    "from sklearn.metrics import classification_report"
   ]
  },
  {
   "cell_type": "code",
   "execution_count": 6,
   "metadata": {},
   "outputs": [],
   "source": [
    "# Read the data\n",
    "\n",
    "df = pd.read_csv(\"train.csv\")\n",
    "test_data = pd.read_csv(\"test.csv\")"
   ]
  },
  {
   "cell_type": "code",
   "execution_count": 7,
   "metadata": {},
   "outputs": [],
   "source": [
    "\n",
    "df.columns = [\"Id\", \"Elevation\", \"Aspect\", \"Slope\", \"Horizontal_Distance_To_Hydrology\",\n",
    "    \"Vertical_Distance_To_Hydrology\", \"Horizontal_Distance_To_Roadways\",\n",
    "    \"Hillshade_9am\", \"Hillshade_Noon\", \"Hillshade_3pm\", \"Horizontal_Distance_To_Fire_Points\",\n",
    "    \"Wilderness_Area1\", \"Wilderness_Area2\", \"Wilderness_Area3\", \"Wilderness_Area4\",\n",
    "    \"Soil_Type1\",  \"Soil_Type2\",  \"Soil_Type3\",  \"Soil_Type4\",  \"Soil_Type5\",  \"Soil_Type6\",\n",
    "    \"Soil_Type7\",  \"Soil_Type8\",  \"Soil_Type9\",  \"Soil_Type10\", \"Soil_Type11\", \"Soil_Type12\",\n",
    "    \"Soil_Type13\", \"Soil_Type14\", \"Soil_Type15\", \"Soil_Type16\", \"Soil_Type17\",\n",
    "    \"Soil_Type18\", \"Soil_Type19\", \"Soil_Type20\", \"Soil_Type21\", \"Soil_Type22\",\n",
    "    \"Soil_Type23\", \"Soil_Type24\", \"Soil_Type25\", \"Soil_Type26\", \"Soil_Type27\",\n",
    "    \"Soil_Type28\", \"Soil_Type29\", \"Soil_Type30\", \"Soil_Type31\", \"Soil_Type32\",\n",
    "    \"Soil_Type33\", \"Soil_Type34\", \"Soil_Type35\", \"Soil_Type36\", \"Soil_Type37\",\n",
    "    \"Soil_Type38\", \"Soil_Type39\", \"Soil_Type40\", \"Cover_Type\"]\n",
    "\n"
   ]
  },
  {
   "cell_type": "code",
   "execution_count": 8,
   "metadata": {},
   "outputs": [
    {
     "name": "stdout",
     "output_type": "stream",
     "text": [
      "train_data shape:  (12096, 55)\n",
      "train_labels shape:  (12096,)\n",
      "dev_data shape:  (3024, 55)\n",
      "dev_labels shape:  (3024,)\n"
     ]
    }
   ],
   "source": [
    "# Seperating features (X) and labels (y)\n",
    "from sklearn.model_selection import train_test_split\n",
    "\n",
    "X, y = df.drop([\"Cover_Type\"], axis = 1), df[\"Cover_Type\"]\n",
    "\n",
    "train_data, dev_data, train_data_label, dev_data_label = train_test_split(X, y, test_size=0.2, random_state=42, stratify = y)\n",
    "print('train_data shape: ',train_data.shape)\n",
    "print('train_labels shape: ',train_data_label.shape)\n",
    "print('dev_data shape: ',dev_data.shape)\n",
    "print('dev_labels shape: ',dev_data_label.shape)"
   ]
  },
  {
   "cell_type": "code",
   "execution_count": 9,
   "metadata": {},
   "outputs": [
    {
     "name": "stdout",
     "output_type": "stream",
     "text": [
      "F1 of baseline model = 0.8581001418220362\n"
     ]
    }
   ],
   "source": [
    "# create a random forest using all the features for the baseline\n",
    "\n",
    "RF_baseline = RandomForestClassifier(min_samples_split = 2, n_estimators = 200, max_depth = 20)\n",
    "RF_baseline.fit(train_data, train_data_label) # Fitting the train data to the classifier \n",
    "predict = RF_baseline.predict(test_data)\n",
    "RF_pred = RF_baseline.predict(dev_data)\n",
    "RF_f1 = metrics.f1_score(dev_data_label, RF_pred, average='macro')\n",
    "print(\"F1 of baseline model = \" + str(RF_f1))"
   ]
  },
  {
   "cell_type": "code",
   "execution_count": 20,
   "metadata": {},
   "outputs": [
    {
     "name": "stdout",
     "output_type": "stream",
     "text": [
      "F1 of baseline model = 0.8444624491910917\n"
     ]
    }
   ],
   "source": [
    "#create a KNN model with 1 neighbor as the baseline\n",
    "knn_model = KNeighborsClassifier(n_neighbors = 1)\n",
    "knn_model.fit(train_data, train_data_label)\n",
    "y_dev_pred = knn_model.predict(dev_data)\n",
    "knn_f1 = metrics.f1_score(dev_data_label, y_dev_pred, average='macro')\n",
    "print(\"F1 of baseline model = \" + str(knn_f1))"
   ]
  },
  {
   "cell_type": "code",
   "execution_count": null,
   "metadata": {},
   "outputs": [],
   "source": []
  },
  {
   "cell_type": "code",
   "execution_count": null,
   "metadata": {},
   "outputs": [],
   "source": []
  },
  {
   "cell_type": "code",
   "execution_count": null,
   "metadata": {},
   "outputs": [],
   "source": []
  }
 ],
 "metadata": {
  "kernelspec": {
   "display_name": "Python 3",
   "language": "python",
   "name": "python3"
  },
  "language_info": {
   "codemirror_mode": {
    "name": "ipython",
    "version": 3
   },
   "file_extension": ".py",
   "mimetype": "text/x-python",
   "name": "python",
   "nbconvert_exporter": "python",
   "pygments_lexer": "ipython3",
   "version": "3.7.4"
  }
 },
 "nbformat": 4,
 "nbformat_minor": 2
}
