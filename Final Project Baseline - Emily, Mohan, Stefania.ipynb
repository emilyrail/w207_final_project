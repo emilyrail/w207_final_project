{
 "cells": [
  {
   "cell_type": "markdown",
   "metadata": {},
   "source": [
    "### W207 Final Project - Forest Coverage Classification\n",
    "\n",
    "#### Team members: Emily, Mohan, Stefania\n",
    "\n",
    "The project and data is from https://www.kaggle.com/c/forest-cover-type-prediction/overview\n",
    "\n",
    "We chose to use the K-Nearest Neighbors Classifier for the baseline."
   ]
  },
  {
   "cell_type": "code",
   "execution_count": 29,
   "metadata": {},
   "outputs": [],
   "source": [
    "#import relevant packages\n",
    "import pandas as pd\n",
    "import numpy as np\n",
    "import matplotlib.pyplot as plt\n",
    "\n",
    "\n",
    "from sklearn.ensemble import RandomForestClassifier\n",
    "from sklearn import metrics\n",
    "from sklearn.neighbors import KNeighborsClassifier\n",
    "from sklearn.metrics import classification_report"
   ]
  },
  {
   "cell_type": "code",
   "execution_count": 5,
   "metadata": {},
   "outputs": [],
   "source": [
    "# Read the data\n",
    "\n",
    "df = pd.read_csv(\"data/train.csv\")\n",
    "test_data = pd.read_csv(\"data/test.csv\")"
   ]
  },
  {
   "cell_type": "code",
   "execution_count": 6,
   "metadata": {},
   "outputs": [],
   "source": [
    "# Rename columns\n",
    "df.columns = [\"Id\", \"Elevation\", \"Aspect\", \"Slope\", \"Horizontal_Distance_To_Hydrology\",\n",
    "    \"Vertical_Distance_To_Hydrology\", \"Horizontal_Distance_To_Roadways\",\n",
    "    \"Hillshade_9am\", \"Hillshade_Noon\", \"Hillshade_3pm\", \"Horizontal_Distance_To_Fire_Points\",\n",
    "    \"Wilderness_Area1\", \"Wilderness_Area2\", \"Wilderness_Area3\", \"Wilderness_Area4\",\n",
    "    \"Soil_Type1\",  \"Soil_Type2\",  \"Soil_Type3\",  \"Soil_Type4\",  \"Soil_Type5\",  \"Soil_Type6\",\n",
    "    \"Soil_Type7\",  \"Soil_Type8\",  \"Soil_Type9\",  \"Soil_Type10\", \"Soil_Type11\", \"Soil_Type12\",\n",
    "    \"Soil_Type13\", \"Soil_Type14\", \"Soil_Type15\", \"Soil_Type16\", \"Soil_Type17\",\n",
    "    \"Soil_Type18\", \"Soil_Type19\", \"Soil_Type20\", \"Soil_Type21\", \"Soil_Type22\",\n",
    "    \"Soil_Type23\", \"Soil_Type24\", \"Soil_Type25\", \"Soil_Type26\", \"Soil_Type27\",\n",
    "    \"Soil_Type28\", \"Soil_Type29\", \"Soil_Type30\", \"Soil_Type31\", \"Soil_Type32\",\n",
    "    \"Soil_Type33\", \"Soil_Type34\", \"Soil_Type35\", \"Soil_Type36\", \"Soil_Type37\",\n",
    "    \"Soil_Type38\", \"Soil_Type39\", \"Soil_Type40\", \"Cover_Type\"]\n",
    "\n"
   ]
  },
  {
   "cell_type": "code",
   "execution_count": 7,
   "metadata": {},
   "outputs": [
    {
     "name": "stdout",
     "output_type": "stream",
     "text": [
      "train_data shape:  (12096, 55)\n",
      "train_labels shape:  (12096,)\n",
      "dev_data shape:  (3024, 55)\n",
      "dev_labels shape:  (3024,)\n"
     ]
    }
   ],
   "source": [
    "# Seperating features (X) and labels (y)\n",
    "from sklearn.model_selection import train_test_split\n",
    "\n",
    "X, y = df.drop([\"Cover_Type\"], axis = 1), df[\"Cover_Type\"]\n",
    "\n",
    "train_data, dev_data, train_data_label, dev_data_label = train_test_split(X, y, test_size=0.2, random_state=42, stratify = y)\n",
    "print('train_data shape: ',train_data.shape)\n",
    "print('train_labels shape: ',train_data_label.shape)\n",
    "print('dev_data shape: ',dev_data.shape)\n",
    "print('dev_labels shape: ',dev_data_label.shape)"
   ]
  },
  {
   "cell_type": "code",
   "execution_count": 44,
   "metadata": {},
   "outputs": [
    {
     "name": "stdout",
     "output_type": "stream",
     "text": [
      "k =  1 F1 of baseline model = 0.8445\n",
      "\n",
      "k =  2 F1 of baseline model = 0.8253\n",
      "\n",
      "k =  4 F1 of baseline model = 0.8089\n",
      "\n",
      "k =  6 F1 of baseline model = 0.7967\n",
      "\n",
      "k =  8 F1 of baseline model = 0.78\n",
      "\n",
      "k =  10 F1 of baseline model = 0.7702\n",
      "\n",
      "k =  12 F1 of baseline model = 0.7636\n",
      "\n",
      "k =  14 F1 of baseline model = 0.7569\n",
      "\n",
      "k =  16 F1 of baseline model = 0.7487\n",
      "\n",
      "k =  18 F1 of baseline model = 0.7365\n",
      "\n",
      "k =  20 F1 of baseline model = 0.7292\n",
      "\n"
     ]
    }
   ],
   "source": [
    "#create a KNN model with varying nearest neighbors as the baseline\n",
    "#We chose to loop through values from 1 to 20 to assess the F1 scores the KNN algorithm\n",
    "f1 = []\n",
    "for i in range(1,21):\n",
    "    knn_model = KNeighborsClassifier(n_neighbors = i)\n",
    "    knn_model.fit(train_data, train_data_label)\n",
    "    y_dev_pred = knn_model.predict(dev_data)\n",
    "    knn_f1 = round(metrics.f1_score(dev_data_label, y_dev_pred, average='macro'),4)\n",
    "    f1.append(knn_f1)\n",
    "    if (i == 1 or i % 2 == 0):\n",
    "        print(\"k = \", i, \"F1 of baseline model = \" + str(knn_f1))\n",
    "        print(\"\")"
   ]
  },
  {
   "cell_type": "code",
   "execution_count": 39,
   "metadata": {},
   "outputs": [
    {
     "data": {
      "text/plain": [
       "Text(0, 0.5, 'F1 Score')"
      ]
     },
     "execution_count": 39,
     "metadata": {},
     "output_type": "execute_result"
    },
    {
     "data": {
      "image/png": "[encoded data removed]",
      "text/plain": [
       "<Figure size 432x288 with 1 Axes>"
      ]
     },
     "metadata": {
      "needs_background": "light"
     },
     "output_type": "display_data"
    }
   ],
   "source": [
    "plt.plot(range(1,21), f1)\n",
    "plt.xlim(0,20)\n",
    "plt.xlabel(\"K value\")\n",
    "plt.ylabel(\"F1 Score\")"
   ]
  },
  {
   "cell_type": "markdown",
   "metadata": {},
   "source": [
    "We can see that the F1 scores decline as K increases. We will use the baseline value of k = 1. The f1 score is .8445."
   ]
  },
  {
   "cell_type": "code",
   "execution_count": null,
   "metadata": {},
   "outputs": [],
   "source": []
  }
 ],
 "metadata": {
  "kernelspec": {
   "display_name": "Python 3",
   "language": "python",
   "name": "python3"
  },
  "language_info": {
   "codemirror_mode": {
    "name": "ipython",
    "version": 3
   },
   "file_extension": ".py",
   "mimetype": "text/x-python",
   "name": "python",
   "nbconvert_exporter": "python",
   "pygments_lexer": "ipython3",
   "version": "3.7.4"
  }
 },
 "nbformat": 4,
 "nbformat_minor": 4
}
