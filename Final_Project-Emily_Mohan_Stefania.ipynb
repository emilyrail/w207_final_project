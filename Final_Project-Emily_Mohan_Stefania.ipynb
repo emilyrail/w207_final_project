{
 "cells": [
  {
   "cell_type": "markdown",
   "metadata": {},
   "source": [
    "### W207 Final Project - Forest Coverage Classification\n",
    "\n",
    "#### Team members: Emily, Mohan, Stefania\n",
    "\n",
    "The project and data is from https://www.kaggle.com/c/forest-cover-type-prediction/overview\n",
    "\n",
    "We chose to use the K-Nearest Neighbors Classifier for the baseline."
   ]
  },
  {
   "cell_type": "markdown",
   "metadata": {},
   "source": [
    "## Introduction\n",
    "\n",
    "For our final project we set out to create a model that could predict the forest cover type based on a dataset of cartographic variables. The datasets and full project description can be found on Kaggle (https://www.kaggle.com/c/forest-cover-type-prediction/overview). In order to find the best model, we followed these steps:\n",
    "1. Download and clean up data\n",
    "2. Create a baseline model to compare future iterations against\n",
    "3. Perform exploratory data analysis on key variables\n",
    "4. Pre-process data\n",
    "5. Feature engineering\n",
    "6. Test various models\n",
    "\n"
   ]
  },
  {
   "cell_type": "code",
   "execution_count": 1,
   "metadata": {},
   "outputs": [],
   "source": [
    "#import relevant packages\n",
    "import pandas as pd\n",
    "import numpy as np\n",
    "import matplotlib.pyplot as plt\n",
    "import seaborn as sns\n",
    "\n",
    "from sklearn.svm import SVC\n",
    "from sklearn.model_selection import GridSearchCV\n",
    "from sklearn.ensemble import ExtraTreesClassifier\n",
    "import xgboost as xgb\n",
    "from sklearn.ensemble import RandomForestClassifier\n",
    "from sklearn import metrics\n",
    "from sklearn.neighbors import KNeighborsClassifier\n",
    "from sklearn.metrics import classification_report\n",
    "from sklearn import preprocessing \n",
    "from sklearn.linear_model import LogisticRegression\n",
    "from sklearn.preprocessing import StandardScaler\n",
    "from sklearn.impute import SimpleImputer\n",
    "from sklearn.pipeline import Pipeline\n",
    "from sklearn.compose import ColumnTransformer \n",
    "\n",
    "# https://machinelearningmastery.com/how-to-fix-futurewarning-messages-in-scikit-learn/\n",
    "# import warnings filter\n",
    "\n",
    "# import warnings filter\n",
    "from warnings import simplefilter\n",
    "# ignore all future warnings\n",
    "simplefilter(action='ignore', category=FutureWarning)"
   ]
  },
  {
   "cell_type": "markdown",
   "metadata": {},
   "source": [
    "## Download and separate data"
   ]
  },
  {
   "cell_type": "code",
   "execution_count": 59,
   "metadata": {},
   "outputs": [],
   "source": [
    "# Read the data\n",
    "\n",
    "df = pd.read_csv(\"data/train.csv\")\n",
    "test_data = pd.read_csv(\"data/test.csv\")\n",
    "\n",
    "# Rename columns\n",
    "df.columns = [\"Id\", \"Elevation\", \"Aspect\", \"Slope\", \"Horizontal_Distance_To_Hydrology\",\n",
    "    \"Vertical_Distance_To_Hydrology\", \"Horizontal_Distance_To_Roadways\",\n",
    "    \"Hillshade_9am\", \"Hillshade_Noon\", \"Hillshade_3pm\", \"Horizontal_Distance_To_Fire_Points\",\n",
    "    \"Wilderness_Area1\", \"Wilderness_Area2\", \"Wilderness_Area3\", \"Wilderness_Area4\",\n",
    "    \"Soil_Type1\",  \"Soil_Type2\",  \"Soil_Type3\",  \"Soil_Type4\",  \"Soil_Type5\",  \"Soil_Type6\",\n",
    "    \"Soil_Type7\",  \"Soil_Type8\",  \"Soil_Type9\",  \"Soil_Type10\", \"Soil_Type11\", \"Soil_Type12\",\n",
    "    \"Soil_Type13\", \"Soil_Type14\", \"Soil_Type15\", \"Soil_Type16\", \"Soil_Type17\",\n",
    "    \"Soil_Type18\", \"Soil_Type19\", \"Soil_Type20\", \"Soil_Type21\", \"Soil_Type22\",\n",
    "    \"Soil_Type23\", \"Soil_Type24\", \"Soil_Type25\", \"Soil_Type26\", \"Soil_Type27\",\n",
    "    \"Soil_Type28\", \"Soil_Type29\", \"Soil_Type30\", \"Soil_Type31\", \"Soil_Type32\",\n",
    "    \"Soil_Type33\", \"Soil_Type34\", \"Soil_Type35\", \"Soil_Type36\", \"Soil_Type37\",\n",
    "    \"Soil_Type38\", \"Soil_Type39\", \"Soil_Type40\", \"Cover_Type\"]\n"
   ]
  },
  {
   "cell_type": "code",
   "execution_count": 60,
   "metadata": {},
   "outputs": [
    {
     "name": "stdout",
     "output_type": "stream",
     "text": [
      "train_data shape:  (12096, 54)\n",
      "train_data_labels shape:  (12096,)\n",
      "dev_data shape:  (3024, 54)\n",
      "dev_data_labels shape:  (3024,)\n"
     ]
    }
   ],
   "source": [
    "# Seperating features (X) and labels (y)\n",
    "from sklearn.model_selection import train_test_split\n",
    "\n",
    "df = df.drop([\"Id\"], axis = 1)\n",
    "test_data = test_data.drop([\"Id\"], axis = 1)\n",
    "\n",
    "X, y = df.drop([\"Cover_Type\"], axis = 1), df[\"Cover_Type\"]\n",
    "\n",
    "train_data, dev_data, train_data_label, dev_data_label = train_test_split(X, y, test_size=0.2, random_state=42, stratify = y)\n",
    "print('train_data shape: ',train_data.shape)\n",
    "print('train_data_labels shape: ',train_data_label.shape)\n",
    "print('dev_data shape: ',dev_data.shape)\n",
    "print('dev_data_labels shape: ',dev_data_label.shape)"
   ]
  },
  {
   "cell_type": "code",
   "execution_count": 61,
   "metadata": {},
   "outputs": [
    {
     "data": {
      "text/html": [
       "<div>\n",
       "<style scoped>\n",
       "    .dataframe tbody tr th:only-of-type {\n",
       "        vertical-align: middle;\n",
       "    }\n",
       "\n",
       "    .dataframe tbody tr th {\n",
       "        vertical-align: top;\n",
       "    }\n",
       "\n",
       "    .dataframe thead th {\n",
       "        text-align: right;\n",
       "    }\n",
       "</style>\n",
       "<table border=\"1\" class=\"dataframe\">\n",
       "  <thead>\n",
       "    <tr style=\"text-align: right;\">\n",
       "      <th></th>\n",
       "      <th>Elevation</th>\n",
       "      <th>Aspect</th>\n",
       "      <th>Slope</th>\n",
       "      <th>Horizontal_Distance_To_Hydrology</th>\n",
       "      <th>Vertical_Distance_To_Hydrology</th>\n",
       "      <th>Horizontal_Distance_To_Roadways</th>\n",
       "      <th>Hillshade_9am</th>\n",
       "      <th>Hillshade_Noon</th>\n",
       "      <th>Hillshade_3pm</th>\n",
       "      <th>Horizontal_Distance_To_Fire_Points</th>\n",
       "      <th>...</th>\n",
       "      <th>Soil_Type31</th>\n",
       "      <th>Soil_Type32</th>\n",
       "      <th>Soil_Type33</th>\n",
       "      <th>Soil_Type34</th>\n",
       "      <th>Soil_Type35</th>\n",
       "      <th>Soil_Type36</th>\n",
       "      <th>Soil_Type37</th>\n",
       "      <th>Soil_Type38</th>\n",
       "      <th>Soil_Type39</th>\n",
       "      <th>Soil_Type40</th>\n",
       "    </tr>\n",
       "  </thead>\n",
       "  <tbody>\n",
       "    <tr>\n",
       "      <td>14128</td>\n",
       "      <td>2942</td>\n",
       "      <td>151</td>\n",
       "      <td>27</td>\n",
       "      <td>376</td>\n",
       "      <td>191</td>\n",
       "      <td>1928</td>\n",
       "      <td>242</td>\n",
       "      <td>227</td>\n",
       "      <td>96</td>\n",
       "      <td>837</td>\n",
       "      <td>...</td>\n",
       "      <td>0</td>\n",
       "      <td>0</td>\n",
       "      <td>0</td>\n",
       "      <td>0</td>\n",
       "      <td>0</td>\n",
       "      <td>0</td>\n",
       "      <td>0</td>\n",
       "      <td>0</td>\n",
       "      <td>0</td>\n",
       "      <td>0</td>\n",
       "    </tr>\n",
       "    <tr>\n",
       "      <td>4425</td>\n",
       "      <td>2869</td>\n",
       "      <td>299</td>\n",
       "      <td>9</td>\n",
       "      <td>90</td>\n",
       "      <td>-11</td>\n",
       "      <td>1670</td>\n",
       "      <td>196</td>\n",
       "      <td>237</td>\n",
       "      <td>181</td>\n",
       "      <td>1460</td>\n",
       "      <td>...</td>\n",
       "      <td>0</td>\n",
       "      <td>0</td>\n",
       "      <td>0</td>\n",
       "      <td>0</td>\n",
       "      <td>0</td>\n",
       "      <td>0</td>\n",
       "      <td>0</td>\n",
       "      <td>0</td>\n",
       "      <td>0</td>\n",
       "      <td>0</td>\n",
       "    </tr>\n",
       "    <tr>\n",
       "      <td>909</td>\n",
       "      <td>2928</td>\n",
       "      <td>294</td>\n",
       "      <td>6</td>\n",
       "      <td>216</td>\n",
       "      <td>21</td>\n",
       "      <td>5075</td>\n",
       "      <td>204</td>\n",
       "      <td>239</td>\n",
       "      <td>174</td>\n",
       "      <td>1744</td>\n",
       "      <td>...</td>\n",
       "      <td>0</td>\n",
       "      <td>0</td>\n",
       "      <td>0</td>\n",
       "      <td>0</td>\n",
       "      <td>0</td>\n",
       "      <td>0</td>\n",
       "      <td>0</td>\n",
       "      <td>0</td>\n",
       "      <td>0</td>\n",
       "      <td>0</td>\n",
       "    </tr>\n",
       "    <tr>\n",
       "      <td>5123</td>\n",
       "      <td>2827</td>\n",
       "      <td>144</td>\n",
       "      <td>18</td>\n",
       "      <td>120</td>\n",
       "      <td>24</td>\n",
       "      <td>2255</td>\n",
       "      <td>242</td>\n",
       "      <td>234</td>\n",
       "      <td>114</td>\n",
       "      <td>1181</td>\n",
       "      <td>...</td>\n",
       "      <td>0</td>\n",
       "      <td>0</td>\n",
       "      <td>0</td>\n",
       "      <td>0</td>\n",
       "      <td>0</td>\n",
       "      <td>0</td>\n",
       "      <td>0</td>\n",
       "      <td>0</td>\n",
       "      <td>0</td>\n",
       "      <td>0</td>\n",
       "    </tr>\n",
       "    <tr>\n",
       "      <td>10901</td>\n",
       "      <td>2559</td>\n",
       "      <td>336</td>\n",
       "      <td>14</td>\n",
       "      <td>30</td>\n",
       "      <td>12</td>\n",
       "      <td>2006</td>\n",
       "      <td>187</td>\n",
       "      <td>220</td>\n",
       "      <td>171</td>\n",
       "      <td>524</td>\n",
       "      <td>...</td>\n",
       "      <td>0</td>\n",
       "      <td>0</td>\n",
       "      <td>0</td>\n",
       "      <td>0</td>\n",
       "      <td>0</td>\n",
       "      <td>0</td>\n",
       "      <td>0</td>\n",
       "      <td>0</td>\n",
       "      <td>0</td>\n",
       "      <td>0</td>\n",
       "    </tr>\n",
       "  </tbody>\n",
       "</table>\n",
       "<p>5 rows × 54 columns</p>\n",
       "</div>"
      ],
      "text/plain": [
       "       Elevation  Aspect  Slope  Horizontal_Distance_To_Hydrology  \\\n",
       "14128       2942     151     27                               376   \n",
       "4425        2869     299      9                                90   \n",
       "909         2928     294      6                               216   \n",
       "5123        2827     144     18                               120   \n",
       "10901       2559     336     14                                30   \n",
       "\n",
       "       Vertical_Distance_To_Hydrology  Horizontal_Distance_To_Roadways  \\\n",
       "14128                             191                             1928   \n",
       "4425                              -11                             1670   \n",
       "909                                21                             5075   \n",
       "5123                               24                             2255   \n",
       "10901                              12                             2006   \n",
       "\n",
       "       Hillshade_9am  Hillshade_Noon  Hillshade_3pm  \\\n",
       "14128            242             227             96   \n",
       "4425             196             237            181   \n",
       "909              204             239            174   \n",
       "5123             242             234            114   \n",
       "10901            187             220            171   \n",
       "\n",
       "       Horizontal_Distance_To_Fire_Points  ...  Soil_Type31  Soil_Type32  \\\n",
       "14128                                 837  ...            0            0   \n",
       "4425                                 1460  ...            0            0   \n",
       "909                                  1744  ...            0            0   \n",
       "5123                                 1181  ...            0            0   \n",
       "10901                                 524  ...            0            0   \n",
       "\n",
       "       Soil_Type33  Soil_Type34  Soil_Type35  Soil_Type36  Soil_Type37  \\\n",
       "14128            0            0            0            0            0   \n",
       "4425             0            0            0            0            0   \n",
       "909              0            0            0            0            0   \n",
       "5123             0            0            0            0            0   \n",
       "10901            0            0            0            0            0   \n",
       "\n",
       "       Soil_Type38  Soil_Type39  Soil_Type40  \n",
       "14128            0            0            0  \n",
       "4425             0            0            0  \n",
       "909              0            0            0  \n",
       "5123             0            0            0  \n",
       "10901            0            0            0  \n",
       "\n",
       "[5 rows x 54 columns]"
      ]
     },
     "execution_count": 61,
     "metadata": {},
     "output_type": "execute_result"
    }
   ],
   "source": [
    "train_data.head()"
   ]
  },
  {
   "cell_type": "markdown",
   "metadata": {},
   "source": [
    "## Baseline\n",
    "\n",
    "For our baseline, we decided to use a simple KNN model. We iterated through a few values of K neighbors and found that the F1 value of the model dropped as K increased. "
   ]
  },
  {
   "cell_type": "code",
   "execution_count": 5,
   "metadata": {},
   "outputs": [
    {
     "data": {
      "text/plain": [
       "Text(0.5, 1.0, 'K value vs F1 Score')"
      ]
     },
     "execution_count": 5,
     "metadata": {},
     "output_type": "execute_result"
    },
    {
     "data": {
      "image/png": "[encoded data removed]",
      "text/plain": [
       "<Figure size 432x288 with 1 Axes>"
      ]
     },
     "metadata": {
      "needs_background": "light"
     },
     "output_type": "display_data"
    }
   ],
   "source": [
    "#create a KNN model with varying nearest neighbors as the baseline\n",
    "#We chose to loop through values from 1 to 20 to assess the F1 scores the KNN algorithm\n",
    "f1 = []\n",
    "for i in range(1,21):\n",
    "    knn_model = KNeighborsClassifier(n_neighbors = i)\n",
    "    knn_model.fit(train_data, train_data_label)\n",
    "    y_dev_pred = knn_model.predict(dev_data)\n",
    "    knn_f1 = round(metrics.f1_score(dev_data_label, y_dev_pred, average='macro'),4)\n",
    "    f1.append(knn_f1)\n",
    "    #if (i == 1 or i % 2 == 0):\n",
    "        #print(\"k = \", i, \"F1 of baseline model = \" + str(knn_f1))\n",
    "        #print(\"\")\n",
    "        \n",
    "plt.plot(range(1,21), f1)\n",
    "plt.xlim(0,20)\n",
    "plt.xlabel(\"K value\")\n",
    "plt.ylabel(\"F1 Score\")\n",
    "plt.title(\"K value vs F1 Score\")"
   ]
  },
  {
   "cell_type": "markdown",
   "metadata": {},
   "source": [
    "We can see that the F1 scores decline as K increases. We will use the baseline value of k = 1. The f1 score is .8374."
   ]
  },
  {
   "cell_type": "code",
   "execution_count": 131,
   "metadata": {},
   "outputs": [
    {
     "data": {
      "image/png": "[encoded data removed]",
      "text/plain": [
       "<Figure size 720x720 with 1 Axes>"
      ]
     },
     "metadata": {
      "needs_background": "light"
     },
     "output_type": "display_data"
    }
   ],
   "source": [
    "from sklearn.metrics import confusion_matrix\n",
    "knn_model = KNeighborsClassifier(n_neighbors = 1)\n",
    "knn_model.fit(train_data, train_data_label)\n",
    "y_pred_label = knn_model.predict(dev_data)\n",
    "y_pred_prob = knn_model.predict_proba(dev_data)\n",
    "\n",
    "dev_data_label_list = list(dev_data_label)\n",
    "        \n",
    "cm = confusion_matrix(dev_data_label, y_pred_label)\n",
    "fig, ax = plt.subplots(figsize=(10, 10))\n",
    "ax.imshow(cm)\n",
    "ax.grid(False)\n",
    "ax.set_xlabel('Predicted outputs', fontsize=12, color='black')\n",
    "ax.set_ylabel('Actual outputs', fontsize=12, color='black')\n",
    "ax.xaxis.set(ticks=range(7))\n",
    "ax.yaxis.set(ticks=range(7))\n",
    "ax.set_ylim(6.5, -0.5)\n",
    "for i in range(7):\n",
    "    for j in range(7):\n",
    "        ax.text(j, i, cm[i, j], ha='center', va='center', color='white')\n",
    "plt.show()\n",
    "\n"
   ]
  },
  {
   "cell_type": "markdown",
   "metadata": {},
   "source": [
    "The baseline model seems to confuse mostly 1s and 2s with each other, i.e. it is having a hard time correctly classifying between cover type 1 (spruce/fir) and 2 (lodgepole pine). "
   ]
  },
  {
   "cell_type": "markdown",
   "metadata": {},
   "source": [
    "## EDA"
   ]
  },
  {
   "cell_type": "markdown",
   "metadata": {},
   "source": [
    "There are twelve distinct features available to us:\n",
    "\n",
    "1. **Elevation** - Elevation in meters \n",
    "2. **Aspect** - Aspect in degrees azimuth \n",
    "3. **Slope** - Slope in degrees \n",
    "4. **Horizontal_Distance_To_Hydrology** - Horzontal distance to nearest surface water features \n",
    "5. **Vertical_Distance_To_Hydrology** - Vertical distance to nearest surface water features \n",
    "6. **Horizontal_Distance_To_Roadways** - Horzontal distance to nearest roadway \n",
    "7. **Hillshade_9am (0 to 255 index)** - Hillshade distance at 9am, summer solstice \n",
    "8. **Hillshade_Noon (0 to 255 index)** - Hillshade index at noon, summer solstice \n",
    "9. **Hillshade_3pm (0 to 255 index)** - Hillshade index at 3pm, summer solstice \n",
    "10. **Horizontal_Distance_To_Fire_Points** - Horzontal distance to nearest wildfire ignition points \n",
    "11. **Wilderness_Area** (4 binary columns, 0 = absence or 1 = presence) - Wilderness area designation \n",
    "12. **Soil_Type** (40 binary columns, 0 = absence or 1 = presence) - Soil Type designation \n",
    "\n",
    "Target is **Cover_Type** that designates forest cover type. The 7 cover types are:\n",
    "\n",
    "1. Spruce/Fir\n",
    "2. Lodgepole Pine\n",
    "3. Ponderosa Pine\n",
    "4. Cottonwood/Willow\n",
    "5. Aspen\n",
    "6. Douglas-fir\n",
    "7. Krummholz"
   ]
  },
  {
   "cell_type": "code",
   "execution_count": 2,
   "metadata": {},
   "outputs": [
    {
     "ename": "NameError",
     "evalue": "name 'df' is not defined",
     "output_type": "error",
     "traceback": [
      "\u001b[0;31m---------------------------------------------------------------------------\u001b[0m",
      "\u001b[0;31mNameError\u001b[0m                                 Traceback (most recent call last)",
      "\u001b[0;32m<ipython-input-2-fc199cacef15>\u001b[0m in \u001b[0;36m<module>\u001b[0;34m\u001b[0m\n\u001b[0;32m----> 1\u001b[0;31m \u001b[0mex\u001b[0m \u001b[0;34m=\u001b[0m \u001b[0mdf\u001b[0m\u001b[0;34m[\u001b[0m\u001b[0;34m[\u001b[0m\u001b[0;34m\"Elevation\"\u001b[0m\u001b[0;34m,\u001b[0m \u001b[0;34m\"Aspect\"\u001b[0m\u001b[0;34m,\u001b[0m\u001b[0;34m\"Slope\"\u001b[0m\u001b[0;34m,\u001b[0m\u001b[0;34m\"Horizontal_Distance_To_Roadways\"\u001b[0m\u001b[0;34m,\u001b[0m \u001b[0;34m\"Horizontal_Distance_To_Fire_Points\"\u001b[0m\u001b[0;34m,\u001b[0m \u001b[0;34m\"Cover_Type\"\u001b[0m\u001b[0;34m]\u001b[0m\u001b[0;34m]\u001b[0m\u001b[0;34m\u001b[0m\u001b[0;34m\u001b[0m\u001b[0m\n\u001b[0m\u001b[1;32m      2\u001b[0m \u001b[0;34m\u001b[0m\u001b[0m\n\u001b[1;32m      3\u001b[0m \u001b[0msns\u001b[0m\u001b[0;34m.\u001b[0m\u001b[0mpairplot\u001b[0m\u001b[0;34m(\u001b[0m\u001b[0mex\u001b[0m\u001b[0;34m,\u001b[0m \u001b[0mhue\u001b[0m \u001b[0;34m=\u001b[0m \u001b[0;34m\"Cover_Type\"\u001b[0m\u001b[0;34m)\u001b[0m\u001b[0;34m\u001b[0m\u001b[0;34m\u001b[0m\u001b[0m\n\u001b[1;32m      4\u001b[0m \u001b[0;34m\u001b[0m\u001b[0m\n",
      "\u001b[0;31mNameError\u001b[0m: name 'df' is not defined"
     ]
    }
   ],
   "source": [
    "ex = df[[\"Elevation\", \"Aspect\",\"Slope\",\"Horizontal_Distance_To_Roadways\", \"Horizontal_Distance_To_Fire_Points\", \"Cover_Type\"]]\n",
    "\n",
    "sns.pairplot(ex, hue = \"Cover_Type\")\n",
    "\n"
   ]
  },
  {
   "cell_type": "code",
   "execution_count": 18,
   "metadata": {},
   "outputs": [
    {
     "data": {
      "text/plain": [
       "<seaborn.axisgrid.PairGrid at 0x18a173150>"
      ]
     },
     "execution_count": 18,
     "metadata": {},
     "output_type": "execute_result"
    },
    {
     "data": {
      "image/png": "[encoded data removed]",
      "text/plain": [
       "<Figure size 786.234x720 with 20 Axes>"
      ]
     },
     "metadata": {
      "needs_background": "light"
     },
     "output_type": "display_data"
    }
   ],
   "source": [
    "#Filter for cover types 1 and 2 only\n",
    "def only_1_2(df1):\n",
    "    limited_df = df1[(df1[\"Cover_Type\"] == 1) | (df1[\"Cover_Type\"] == 2)]\n",
    "    return limited_df\n",
    "\n",
    "ex_1_2 = only_1_2(ex)\n",
    "sns.pairplot(ex_1_2, hue = \"Cover_Type\")\n"
   ]
  },
  {
   "cell_type": "markdown",
   "metadata": {},
   "source": [
    "It's no surprise that the model confuses Types 1 and 2, since they seem very similar along these four features."
   ]
  },
  {
   "cell_type": "code",
   "execution_count": 8,
   "metadata": {},
   "outputs": [
    {
     "data": {
      "image/png": "[encoded data removed]",
      "text/plain": [
       "<Figure size 1512x216 with 7 Axes>"
      ]
     },
     "metadata": {
      "needs_background": "light"
     },
     "output_type": "display_data"
    }
   ],
   "source": [
    "g = sns.FacetGrid(df, col=\"Cover_Type\", hue = \"Cover_Type\")\n",
    "g.map(plt.hist, \"Elevation\");"
   ]
  },
  {
   "cell_type": "code",
   "execution_count": 9,
   "metadata": {},
   "outputs": [
    {
     "data": {
      "image/png": "[encoded data removed]",
      "text/plain": [
       "<Figure size 1512x216 with 7 Axes>"
      ]
     },
     "metadata": {
      "needs_background": "light"
     },
     "output_type": "display_data"
    }
   ],
   "source": [
    "g = sns.FacetGrid(df, col=\"Cover_Type\", hue = \"Cover_Type\")\n",
    "g.map(plt.hist, \"Horizontal_Distance_To_Roadways\");"
   ]
  },
  {
   "cell_type": "code",
   "execution_count": 70,
   "metadata": {},
   "outputs": [
    {
     "name": "stdout",
     "output_type": "stream",
     "text": [
      "Full Dataframe: \n",
      "            Elevation\n",
      "Cover_Type           \n",
      "1                2160\n",
      "2                2160\n",
      "3                2160\n",
      "4                2160\n",
      "5                2160\n",
      "6                2160\n",
      "7                2160\n"
     ]
    }
   ],
   "source": [
    "# Distribution of cover type - there is an equal dispersion of cover types throughout the data.\n",
    "\n",
    "print(\"Full Dataframe: \")\n",
    "print(df[[\"Cover_Type\", \"Elevation\"]].groupby(\"Cover_Type\").count())"
   ]
  },
  {
   "cell_type": "code",
   "execution_count": 11,
   "metadata": {},
   "outputs": [
    {
     "data": {
      "text/plain": [
       "<matplotlib.axes._subplots.AxesSubplot at 0x1329a9fd0>"
      ]
     },
     "execution_count": 11,
     "metadata": {},
     "output_type": "execute_result"
    },
    {
     "data": {
      "image/png": "[encoded data removed]",
      "text/plain": [
       "<Figure size 432x288 with 1 Axes>"
      ]
     },
     "metadata": {
      "needs_background": "light"
     },
     "output_type": "display_data"
    }
   ],
   "source": [
    "sns.boxplot(x=df['Cover_Type'], y=df[\"Elevation\"], data=df)"
   ]
  },
  {
   "cell_type": "markdown",
   "metadata": {},
   "source": [
    "### Soil type distribution"
   ]
  },
  {
   "cell_type": "markdown",
   "metadata": {},
   "source": [
    "Soil type is represented as a binary feature in the data set There are 40 different features for each soil type."
   ]
  },
  {
   "cell_type": "code",
   "execution_count": 19,
   "metadata": {},
   "outputs": [
    {
     "data": {
      "text/plain": [
       "Text(0, 0.5, 'Count')"
      ]
     },
     "execution_count": 19,
     "metadata": {},
     "output_type": "execute_result"
    },
    {
     "data": {
      "image/png": "[encoded data removed]",
      "text/plain": [
       "<Figure size 1080x576 with 1 Axes>"
      ]
     },
     "metadata": {
      "needs_background": "light"
     },
     "output_type": "display_data"
    }
   ],
   "source": [
    "soil_df = df.loc[:,'Soil_Type1':'Soil_Type40']\n",
    "soil_df.columns = range(1,41)\n",
    "soil_series = soil_df.sum()\n",
    "\n",
    "fig = plt.figure(figsize=(15, 8))\n",
    "\n",
    "sns.barplot(x = soil_df.columns, y = soil_series)\n",
    "plt.xlabel(\"Soil Type\")\n",
    "plt.ylabel(\"Count\")"
   ]
  },
  {
   "cell_type": "markdown",
   "metadata": {},
   "source": [
    "## Data Cleaning"
   ]
  },
  {
   "cell_type": "markdown",
   "metadata": {},
   "source": [
    "Let us remove ID since this has no significance in predicting cover type. Similarly, we remove soil types 7 and 15 as these have no values represented in data."
   ]
  },
  {
   "cell_type": "code",
   "execution_count": 62,
   "metadata": {},
   "outputs": [],
   "source": [
    "#Cleaning data by removing Id, Soil_Type7 and Soil_Type15\n",
    "\n",
    "train_data = train_data.drop([\"Soil_Type7\", \"Soil_Type15\"], axis = 1)\n",
    "dev_data = dev_data.drop([\"Soil_Type7\", \"Soil_Type15\"], axis = 1)\n",
    "test_data = test_data.drop([\"Soil_Type7\", \"Soil_Type15\"], axis = 1)\n",
    "\n"
   ]
  },
  {
   "cell_type": "markdown",
   "metadata": {},
   "source": [
    "### Pre-processing Data"
   ]
  },
  {
   "cell_type": "markdown",
   "metadata": {},
   "source": [
    "We used the Scikit-learn `Pipeline` class that applies a list of transformations to the data. We applied SimpleImputer, which replaces missing and `NAN` values with the `Median`, and a `StandardScaler` step, which subtracts the mean from each of the features and scales to unit variance. "
   ]
  },
  {
   "cell_type": "markdown",
   "metadata": {},
   "source": [
    "### Normalize data"
   ]
  },
  {
   "cell_type": "code",
   "execution_count": 37,
   "metadata": {},
   "outputs": [],
   "source": [
    "#normalize all values (subtract mean, divide by standard deviation) for non-categorical features\n",
    "\n",
    "\n",
    "def normalize_processor(df):\n",
    "    column_trans = ColumnTransformer(\n",
    "    [('scaler', StandardScaler(),[\"Elevation\", \"Aspect\", \"Slope\", \"Horizontal_Distance_To_Hydrology\",\n",
    "    \"Vertical_Distance_To_Hydrology\", \"Horizontal_Distance_To_Roadways\",\n",
    "    \"Hillshade_9am\", \"Hillshade_Noon\", \"Hillshade_3pm\", \"Horizontal_Distance_To_Fire_Points\"])], remainder = \"passthrough\") \n",
    "\n",
    "    dfnorm = column_trans.fit_transform(df)\n",
    "    dfnorm2 = pd.DataFrame(dfnorm, columns = df.columns)\n",
    "    return dfnorm2\n"
   ]
  },
  {
   "cell_type": "markdown",
   "metadata": {},
   "source": [
    "### Condense binary columns"
   ]
  },
  {
   "cell_type": "code",
   "execution_count": 58,
   "metadata": {},
   "outputs": [
    {
     "data": {
      "text/plain": [
       "Index(['Elevation', 'Aspect', 'Slope', 'Horizontal_Distance_To_Hydrology',\n",
       "       'Vertical_Distance_To_Hydrology', 'Horizontal_Distance_To_Roadways',\n",
       "       'Hillshade_9am', 'Hillshade_Noon', 'Hillshade_3pm',\n",
       "       'Horizontal_Distance_To_Fire_Points', 'Wilderness_Area1',\n",
       "       'Wilderness_Area2', 'Wilderness_Area3', 'Wilderness_Area4',\n",
       "       'Soil_Type1', 'Soil_Type2', 'Soil_Type3', 'Soil_Type4', 'Soil_Type5',\n",
       "       'Soil_Type6', 'Soil_Type7', 'Soil_Type8', 'Soil_Type9', 'Soil_Type10',\n",
       "       'Soil_Type11', 'Soil_Type12', 'Soil_Type13', 'Soil_Type14',\n",
       "       'Soil_Type15', 'Soil_Type16', 'Soil_Type17', 'Soil_Type18',\n",
       "       'Soil_Type19', 'Soil_Type20', 'Soil_Type21', 'Soil_Type22',\n",
       "       'Soil_Type23', 'Soil_Type24', 'Soil_Type25', 'Soil_Type26',\n",
       "       'Soil_Type27', 'Soil_Type28', 'Soil_Type29', 'Soil_Type30',\n",
       "       'Soil_Type31', 'Soil_Type32', 'Soil_Type33', 'Soil_Type34',\n",
       "       'Soil_Type35', 'Soil_Type36', 'Soil_Type37', 'Soil_Type38',\n",
       "       'Soil_Type39', 'Soil_Type40', 'Cover_Type'],\n",
       "      dtype='object')"
      ]
     },
     "execution_count": 58,
     "metadata": {},
     "output_type": "execute_result"
    }
   ],
   "source": [
    "df.columns"
   ]
  },
  {
   "cell_type": "code",
   "execution_count": 39,
   "metadata": {},
   "outputs": [],
   "source": [
    "def rem_binary(df):\n",
    "    \n",
    "    wild_cols = df.loc[:, \"Wilderness_Area1\":\"Wilderness_Area4\"]\n",
    "\n",
    "    soil_cols = df.loc[:, \"Soil_Type1\":\"Soil_Type40\"]\n",
    "\n",
    "    def soil_factorize(row): \n",
    "        for x in soil_cols.columns:\n",
    "            if row[x] == 1:\n",
    "                return int(x.split(\"e\")[1])\n",
    "\n",
    "    df[\"Soil_Type\"] = soil_cols.apply(soil_factorize, axis =1)\n",
    "\n",
    "    def wild_factorize(row): \n",
    "        for x in wild_cols.columns:\n",
    "            if row[x] == 1:\n",
    "                return int(x.split(\"Area\")[1])\n",
    "\n",
    "    df[\"Wilderness_Area\"] = wild_cols.apply(wild_factorize, axis =1)\n",
    "    \n",
    "    df = df.drop(['Soil_Type1', 'Soil_Type2', 'Soil_Type3', 'Soil_Type4', 'Soil_Type5',\n",
    "       'Soil_Type6',  'Soil_Type8', 'Soil_Type9', 'Soil_Type10',\n",
    "       'Soil_Type11', 'Soil_Type12', 'Soil_Type13', 'Soil_Type14',\n",
    "       'Soil_Type16', 'Soil_Type17', 'Soil_Type18',\n",
    "       'Soil_Type19', 'Soil_Type20', 'Soil_Type21', 'Soil_Type22',\n",
    "       'Soil_Type23', 'Soil_Type24', 'Soil_Type25', 'Soil_Type26',\n",
    "       'Soil_Type27', 'Soil_Type28', 'Soil_Type29', 'Soil_Type30',\n",
    "       'Soil_Type31', 'Soil_Type32', 'Soil_Type33', 'Soil_Type34',\n",
    "       'Soil_Type35', 'Soil_Type36', 'Soil_Type37', 'Soil_Type38',\n",
    "       'Soil_Type39', 'Soil_Type40', 'Wilderness_Area1', 'Wilderness_Area2',\n",
    "                  'Wilderness_Area3', 'Wilderness_Area4', 'Hillshade_3pm'], axis = 1)\n",
    "    return df"
   ]
  },
  {
   "cell_type": "markdown",
   "metadata": {},
   "source": [
    "### Feature Engineering "
   ]
  },
  {
   "cell_type": "markdown",
   "metadata": {},
   "source": [
    "We attempt to reduce complexity by creating features by combining existing ones to  optimize our model’s performance. In order to make the best possible prediction we need to make the most of the features we are given. This involves combining two or more significant features, or categorizing different ones to make them more digestable for the model. \n",
    "\n",
    "2.  **Soil Type** – We observed in the Random Forest model that soil types were individually not very important features. So we decided to aggregate these soil types to create three new features based on their textures: `soil_stony`, `soil_rubbly`, and `soil_other`\n",
    "<br/><br/>\n",
    "3. **Hillshade Mean** - We are given the Hillshade index at 9:00 am, noon, and 3:00 pm. Given this information, and the fact that our prior model gave importance to these features, we added another feature `Hillshade_mean`, which represents the average of these three indices.\n",
    "<br/><br/>\n",
    "$$ HillshadeMean = \\frac{Hillshade9am + Hillshade3pm + HillshadeNoon}{3} $$\n",
    "\n",
    "\n",
    "<br/><br/>\n",
    "\n",
    "The data cleaning, feature selection, preprocessing steps, and the feature engineering are all performed in the function `feat_eng`. This will be run on both the training and testing data, to make sure the data are in sync."
   ]
  },
  {
   "cell_type": "code",
   "execution_count": 25,
   "metadata": {},
   "outputs": [],
   "source": [
    "def feat_eng(df):\n",
    "    # Adding Hillshade_Mean Feature\n",
    "    df['Hillshade_Mean'] =  (df['Hillshade_9am'] + df['Hillshade_Noon']  + df['Hillshade_3pm']) / 3\n",
    "    \n",
    "    # Adding Euclidian Distance\n",
    "    \n",
    "    #df['Euclidean_Dist_To_Hydrology'] =  np.sqrt(df['Horizontal_Distance_To_Hydrology'] **2 + df['Vertical_Distance_To_Hydrology'] **2 )\n",
    "   # df['Euclidean_Dist_To_Hydrology'] =  np.sqrt((df['Horizontal_Distance_To_Hydrology']**2+df['Vertical_Distance_To_Hydrology']**2))\n",
    "    \n",
    "    # Categorizing Soil Types by texture\n",
    "    stony_col = ['Soil_Type1', 'Soil_Type2', 'Soil_Type6', 'Soil_Type9', 'Soil_Type12', 'Soil_Type18', 'Soil_Type22', 'Soil_Type24', 'Soil_Type25', 'Soil_Type26', 'Soil_Type27', 'Soil_Type28', 'Soil_Type29', 'Soil_Type30', 'Soil_Type31', 'Soil_Type32', 'Soil_Type33', 'Soil_Type34', 'Soil_Type36', 'Soil_Type37', 'Soil_Type38', 'Soil_Type39', 'Soil_Type40']\n",
    "    rubbly_col = ['Soil_Type3','Soil_Type4', 'Soil_Type5', 'Soil_Type10', 'Soil_Type11', 'Soil_Type13']\n",
    "    other_col = ['Soil_Type8', 'Soil_Type14', 'Soil_Type16', 'Soil_Type17', 'Soil_Type19', 'Soil_Type20', 'Soil_Type21', 'Soil_Type23', 'Soil_Type35']\n",
    "    df['soil_stony'] = df[stony_col].sum(axis=1)\n",
    "    df['soil_rubbly'] = df[rubbly_col].sum(axis=1)\n",
    "    df['soil_other'] = df[other_col].sum(axis=1)    \n",
    "\n",
    "    # ---------- Removing below features ---------\n",
    "   # df = df.drop(['Id'], axis=1) # Removing 'Id' column\n",
    "  #  df = df.drop(['Soil_Type7','Soil_Type15'], axis=1)\n",
    "\n",
    "    return df"
   ]
  },
  {
   "cell_type": "markdown",
   "metadata": {},
   "source": [
    "### Feature Selection with Decision Tree"
   ]
  },
  {
   "cell_type": "markdown",
   "metadata": {},
   "source": []
  },
  {
   "cell_type": "code",
   "execution_count": 67,
   "metadata": {},
   "outputs": [
    {
     "name": "stdout",
     "output_type": "stream",
     "text": [
      "Random Forest top impportant features\n"
     ]
    },
    {
     "data": {
      "text/html": [
       "<div>\n",
       "<style scoped>\n",
       "    .dataframe tbody tr th:only-of-type {\n",
       "        vertical-align: middle;\n",
       "    }\n",
       "\n",
       "    .dataframe tbody tr th {\n",
       "        vertical-align: top;\n",
       "    }\n",
       "\n",
       "    .dataframe thead th {\n",
       "        text-align: right;\n",
       "    }\n",
       "</style>\n",
       "<table border=\"1\" class=\"dataframe\">\n",
       "  <thead>\n",
       "    <tr style=\"text-align: right;\">\n",
       "      <th></th>\n",
       "      <th>Rank</th>\n",
       "      <th>Feature</th>\n",
       "      <th>Importance</th>\n",
       "    </tr>\n",
       "  </thead>\n",
       "  <tbody>\n",
       "    <tr>\n",
       "      <td>0</td>\n",
       "      <td>1</td>\n",
       "      <td>Elevation</td>\n",
       "      <td>0.2367</td>\n",
       "    </tr>\n",
       "    <tr>\n",
       "      <td>1</td>\n",
       "      <td>2</td>\n",
       "      <td>Horizontal_Distance_To_Roadways</td>\n",
       "      <td>0.0906</td>\n",
       "    </tr>\n",
       "    <tr>\n",
       "      <td>2</td>\n",
       "      <td>3</td>\n",
       "      <td>Horizontal_Distance_To_Fire_Points</td>\n",
       "      <td>0.0703</td>\n",
       "    </tr>\n",
       "    <tr>\n",
       "      <td>3</td>\n",
       "      <td>4</td>\n",
       "      <td>Horizontal_Distance_To_Hydrology</td>\n",
       "      <td>0.0618</td>\n",
       "    </tr>\n",
       "    <tr>\n",
       "      <td>4</td>\n",
       "      <td>5</td>\n",
       "      <td>Vertical_Distance_To_Hydrology</td>\n",
       "      <td>0.0503</td>\n",
       "    </tr>\n",
       "    <tr>\n",
       "      <td>5</td>\n",
       "      <td>6</td>\n",
       "      <td>Hillshade_9am</td>\n",
       "      <td>0.0487</td>\n",
       "    </tr>\n",
       "    <tr>\n",
       "      <td>6</td>\n",
       "      <td>7</td>\n",
       "      <td>Aspect</td>\n",
       "      <td>0.0475</td>\n",
       "    </tr>\n",
       "    <tr>\n",
       "      <td>7</td>\n",
       "      <td>8</td>\n",
       "      <td>Wilderness_Area4</td>\n",
       "      <td>0.0474</td>\n",
       "    </tr>\n",
       "    <tr>\n",
       "      <td>8</td>\n",
       "      <td>9</td>\n",
       "      <td>Hillshade_3pm</td>\n",
       "      <td>0.0437</td>\n",
       "    </tr>\n",
       "    <tr>\n",
       "      <td>9</td>\n",
       "      <td>10</td>\n",
       "      <td>Hillshade_Noon</td>\n",
       "      <td>0.0421</td>\n",
       "    </tr>\n",
       "    <tr>\n",
       "      <td>10</td>\n",
       "      <td>11</td>\n",
       "      <td>Slope</td>\n",
       "      <td>0.0345</td>\n",
       "    </tr>\n",
       "    <tr>\n",
       "      <td>11</td>\n",
       "      <td>12</td>\n",
       "      <td>Soil_Type10</td>\n",
       "      <td>0.0245</td>\n",
       "    </tr>\n",
       "    <tr>\n",
       "      <td>12</td>\n",
       "      <td>13</td>\n",
       "      <td>Soil_Type38</td>\n",
       "      <td>0.0204</td>\n",
       "    </tr>\n",
       "    <tr>\n",
       "      <td>13</td>\n",
       "      <td>14</td>\n",
       "      <td>Soil_Type3</td>\n",
       "      <td>0.0195</td>\n",
       "    </tr>\n",
       "    <tr>\n",
       "      <td>14</td>\n",
       "      <td>15</td>\n",
       "      <td>Wilderness_Area1</td>\n",
       "      <td>0.0192</td>\n",
       "    </tr>\n",
       "  </tbody>\n",
       "</table>\n",
       "</div>"
      ],
      "text/plain": [
       "   Rank                             Feature  Importance\n",
       "0     1                           Elevation      0.2367\n",
       "1     2     Horizontal_Distance_To_Roadways      0.0906\n",
       "2     3  Horizontal_Distance_To_Fire_Points      0.0703\n",
       "3     4    Horizontal_Distance_To_Hydrology      0.0618\n",
       "4     5      Vertical_Distance_To_Hydrology      0.0503\n",
       "5     6                       Hillshade_9am      0.0487\n",
       "6     7                              Aspect      0.0475\n",
       "7     8                    Wilderness_Area4      0.0474\n",
       "8     9                       Hillshade_3pm      0.0437\n",
       "9    10                      Hillshade_Noon      0.0421\n",
       "10   11                               Slope      0.0345\n",
       "11   12                         Soil_Type10      0.0245\n",
       "12   13                         Soil_Type38      0.0204\n",
       "13   14                          Soil_Type3      0.0195\n",
       "14   15                    Wilderness_Area1      0.0192"
      ]
     },
     "execution_count": 67,
     "metadata": {},
     "output_type": "execute_result"
    }
   ],
   "source": [
    "# Important features of the random forest\n",
    "RF_baseline = RandomForestClassifier(min_samples_split = 2, n_estimators = 200, max_depth = 20)\n",
    "RF_baseline.fit(train_data, train_data_label) # Fitting the train data to the classifier \n",
    "\n",
    "importances = RF_baseline.feature_importances_\n",
    "indices = np.argsort(importances)[::-1] \n",
    "print(\"Random Forest top impportant features\")\n",
    "importances_df = pd.DataFrame(columns=['Rank','Feature', 'Importance'])\n",
    "\n",
    "for i in range(len(indices)):\n",
    "    importance = np.around(importances[indices[i]],decimals=4)\n",
    "    feature = train_data.columns[indices[i]]\n",
    "    rank = i + 1\n",
    "    importances_df.loc[i] = [rank, feature, importance]\n",
    "\n",
    "\n",
    "# List the feature importances of the forest\n",
    "\n",
    "importances_df[:15]"
   ]
  },
  {
   "cell_type": "markdown",
   "metadata": {},
   "source": [
    "Processor that keeps only most important features"
   ]
  },
  {
   "cell_type": "code",
   "execution_count": 68,
   "metadata": {},
   "outputs": [],
   "source": [
    "# returns a dataframe with subset of n most important features based on RF model\n",
    "def rf_feature_selector(df2, n_features):\n",
    "    df1 = df2[importances_df['Feature'][:n_features]]\n",
    "    return df1"
   ]
  },
  {
   "cell_type": "markdown",
   "metadata": {},
   "source": [
    "The Random Forest baseline model performs well on the training data, with a 0.85 F1 score.\n",
    "\n",
    "Elevation is exteremly significant, followed by Horizontal distance to Roadways, Fire points and Hydrology. "
   ]
  },
  {
   "cell_type": "markdown",
   "metadata": {},
   "source": [
    "## Pre-processed Data Sets"
   ]
  },
  {
   "cell_type": "code",
   "execution_count": 1,
   "metadata": {},
   "outputs": [
    {
     "ename": "NameError",
     "evalue": "name 'normalize_processor' is not defined",
     "output_type": "error",
     "traceback": [
      "\u001b[0;31m---------------------------------------------------------------------------\u001b[0m",
      "\u001b[0;31mNameError\u001b[0m                                 Traceback (most recent call last)",
      "\u001b[0;32m<ipython-input-1-67a593c3ab41>\u001b[0m in \u001b[0;36m<module>\u001b[0;34m\u001b[0m\n\u001b[0;32m----> 1\u001b[0;31m \u001b[0mtrain_data_norm\u001b[0m \u001b[0;34m=\u001b[0m \u001b[0mnormalize_processor\u001b[0m\u001b[0;34m(\u001b[0m\u001b[0mtrain_data\u001b[0m\u001b[0;34m)\u001b[0m\u001b[0;34m\u001b[0m\u001b[0;34m\u001b[0m\u001b[0m\n\u001b[0m\u001b[1;32m      2\u001b[0m \u001b[0mtrain_data_rf_selector\u001b[0m \u001b[0;34m=\u001b[0m \u001b[0mrf_feature_selector\u001b[0m\u001b[0;34m(\u001b[0m\u001b[0mtrain_data\u001b[0m\u001b[0;34m,\u001b[0m\u001b[0;36m15\u001b[0m\u001b[0;34m)\u001b[0m\u001b[0;34m\u001b[0m\u001b[0;34m\u001b[0m\u001b[0m\n\u001b[1;32m      3\u001b[0m \u001b[0mtrain_data_feat_eng\u001b[0m \u001b[0;34m=\u001b[0m \u001b[0mfeat_eng\u001b[0m\u001b[0;34m(\u001b[0m\u001b[0mtrain_data\u001b[0m\u001b[0;34m)\u001b[0m\u001b[0;34m\u001b[0m\u001b[0;34m\u001b[0m\u001b[0m\n\u001b[1;32m      4\u001b[0m \u001b[0mtrain_data_rem_bin\u001b[0m \u001b[0;34m=\u001b[0m \u001b[0mrem_binary\u001b[0m\u001b[0;34m(\u001b[0m\u001b[0mtrain_data\u001b[0m\u001b[0;34m)\u001b[0m\u001b[0;34m\u001b[0m\u001b[0;34m\u001b[0m\u001b[0m\n\u001b[1;32m      5\u001b[0m \u001b[0;34m\u001b[0m\u001b[0m\n",
      "\u001b[0;31mNameError\u001b[0m: name 'normalize_processor' is not defined"
     ]
    }
   ],
   "source": [
    "train_data_norm = normalize_processor(train_data)\n",
    "train_data_rf_selector = rf_feature_selector(train_data,15)\n",
    "train_data_feat_eng = feat_eng(train_data)\n",
    "train_data_rem_bin = rem_binary(train_data)\n",
    "\n",
    "dev_data_norm = normalize_processor(dev_data)\n",
    "dev_data_rf_selector = rf_feature_selector(dev_data,15)\n",
    "dev_data_feat_eng = feat_eng(dev_data)\n",
    "dev_data_rem_bin = rem_binary(dev_data)\n",
    "\n",
    "\n",
    "\n",
    "train_datasets = [train_data,  train_data_norm, train_data_rf_selector,  \\\n",
    "                  train_data_feat_eng, train_data_rem_bin]\n",
    "\n",
    "dev_datasets = [dev_data, dev_data_norm, dev_data_rf_selector, \\\n",
    "                dev_data_feat_eng, dev_data_rem_bin]\n",
    "\n",
    "transformation_names = [\"None\",  \"Normalize\", \"Feat Selector RF\",\"Feat Eng\", \"Remove Binaries\"]\n"
   ]
  },
  {
   "cell_type": "markdown",
   "metadata": {},
   "source": [
    "## Classification Models"
   ]
  },
  {
   "cell_type": "markdown",
   "metadata": {},
   "source": [
    "### Decision Tree"
   ]
  },
  {
   "cell_type": "code",
   "execution_count": 90,
   "metadata": {},
   "outputs": [],
   "source": [
    "#Creating a dataframe to compare model performance\n",
    "import time\n",
    "index = np.array(range(80))\n",
    "model_performance_df = pd.DataFrame(columns = ['Model Name', 'Train Time(s)', 'Prediction Time(s)', 'F1 Score', 'Pre-processor'], index = index)\n"
   ]
  },
  {
   "cell_type": "code",
   "execution_count": 92,
   "metadata": {},
   "outputs": [
    {
     "name": "stdout",
     "output_type": "stream",
     "text": [
      "Transformation: None F1 Score = 0.783\n",
      "Transformation: Normalize F1 Score = 0.787\n",
      "Transformation: Feat Selector RF F1 Score = 0.768\n",
      "Transformation: Feat Eng F1 Score = 0.795\n",
      "Transformation: Remove Binaries F1 Score = 0.775\n"
     ]
    }
   ],
   "source": [
    "\n",
    "from sklearn import tree\n",
    "loc1 = 0\n",
    "for ds in range(len(train_datasets)):\n",
    "    clf = tree.DecisionTreeClassifier(max_depth = 20)\n",
    "    start_train = time.time()\n",
    "    clf = clf.fit(train_datasets[ds], train_data_label)\n",
    "    end_time = time.time()\n",
    "    train_time = str(round(end_time - start_train, 2))\n",
    "    \n",
    "    start_test = time.time()\n",
    "    tree_pred= clf.predict(dev_datasets[ds])\n",
    "    end_test = time.time()\n",
    "    test_time = str(round(end_test - start_test, 2))\n",
    "    accuracy = round(metrics.f1_score(dev_data_label, tree_pred, average=\"macro\"),3)\n",
    "    print(\"Transformation:\", transformation_names[ds], \"F1 Score = \" + str(accuracy))\n",
    "    model_performance_df.iloc[loc1] = ['Decision Trees', train_time, test_time, accuracy, transformation_names[ds]]\n",
    "    loc1 +=1 "
   ]
  },
  {
   "cell_type": "markdown",
   "metadata": {},
   "source": [
    "### Random Forest "
   ]
  },
  {
   "cell_type": "code",
   "execution_count": 93,
   "metadata": {},
   "outputs": [
    {
     "name": "stdout",
     "output_type": "stream",
     "text": [
      "Transformation: None\n",
      "F1 score of revised Random Forest = 0.848\n",
      "Transformation: Normalize\n",
      "F1 score of revised Random Forest = 0.845\n",
      "Transformation: Feat Selector RF\n",
      "F1 score of revised Random Forest = 0.848\n",
      "Transformation: Feat Eng\n",
      "F1 score of revised Random Forest = 0.848\n",
      "Transformation: Remove Binaries\n",
      "F1 score of revised Random Forest = 0.853\n"
     ]
    }
   ],
   "source": [
    "\n",
    "\n",
    "RF_revised = RandomForestClassifier(min_samples_split = 2, n_estimators = 200, max_depth = 20)\n",
    "for ds in range(len(train_datasets)):\n",
    "    loc1 = model_performance_df['Model Name'].notna()[::-1].idxmax()+1\n",
    "    start_train = time.time()\n",
    "    RF_revised.fit(train_datasets[ds], train_data_label) # Fitting the train data to the classifier \n",
    "    end_train = time.time()\n",
    "    train_time = str(round(end_train - start_train, 2))\n",
    "    #predict = RF_revised.predict(test_data)\n",
    "    start_test = time.time()\n",
    "    RF_revised_pred = RF_revised.predict(dev_datasets[ds])\n",
    "    end_test = time.time()\n",
    "    test_time = str(round(end_test - start_test, 2))\n",
    "    RF_revised_f1 = round(metrics.f1_score(dev_data_label, RF_revised_pred, average='macro'),3)\n",
    "    print(\"Transformation:\", transformation_names[ds])\n",
    "    print(\"F1 score of revised Random Forest = \" + str(RF_revised_f1))\n",
    "    model_performance_df.iloc[loc1] = ['Random Forest', train_time, test_time, RF_revised_f1, transformation_names[ds]]"
   ]
  },
  {
   "cell_type": "markdown",
   "metadata": {},
   "source": [
    "### Extra trees"
   ]
  },
  {
   "cell_type": "markdown",
   "metadata": {},
   "source": [
    "Extra trees add a layer of randomization to decision tree modeling. It takes into account the whole learning sample."
   ]
  },
  {
   "cell_type": "markdown",
   "metadata": {},
   "source": [
    "We use GridSearchCV to find the optimal parameters. "
   ]
  },
  {
   "cell_type": "markdown",
   "metadata": {},
   "source": [
    "NOTE - this step takes time - so we ran it and changed it to markdown\n",
    "\n",
    "\n",
    "params = {'max_features': [0.8, 1], 'n_estimators': [10,20,50,100], 'max_depth': [10, 20, 30]}\n",
    "\n",
    "clf = GridSearchCV(ExtraTreesClassifier(), params)\n",
    "\n",
    "\n",
    "clf.fit(train_data, train_data_label)\n",
    "print(\"Best parameters:\", clf.best_params_) "
   ]
  },
  {
   "cell_type": "markdown",
   "metadata": {},
   "source": [
    "OUTPUT: Best parameters: {'max_depth': 30, 'max_features': 0.8, 'n_estimators': 100}"
   ]
  },
  {
   "cell_type": "code",
   "execution_count": 94,
   "metadata": {},
   "outputs": [
    {
     "name": "stdout",
     "output_type": "stream",
     "text": [
      "Transformation: None 0.873\n",
      "Transformation: Normalize 0.872\n",
      "Transformation: Feat Selector RF 0.862\n",
      "Transformation: Feat Eng 0.874\n",
      "Transformation: Remove Binaries 0.875\n"
     ]
    }
   ],
   "source": [
    "for ds in range(len(train_datasets)):\n",
    "    loc1 = model_performance_df['Model Name'].notna()[::-1].idxmax()+1\n",
    "    ExtraTree_clf = ExtraTreesClassifier(max_features=0.8, max_depth = 30, n_estimators=500)\n",
    "    start_train = time.time()\n",
    "    ExtraTree_clf.fit(train_datasets[ds], train_data_label) # Fitting the train data to the classifier \n",
    "    end_train = time.time()\n",
    "    train_time = str(round(end_train - start_train, 2))\n",
    "    # Make prediction on dev data\n",
    "    start_test = time.time()\n",
    "    pred = ExtraTree_clf.predict(dev_datasets[ds])\n",
    "    end_test = time.time()\n",
    "    test_time = str(round(end_test - start_test, 2))\n",
    "\n",
    "    # Store metrics\n",
    "    dev_f1 = round(metrics.f1_score(dev_data_label, pred, average='macro'), 3)\n",
    "   # print(\"F1 Score for Extra Trees = \" + str(dev_f1))\n",
    "    model_performance_df.iloc[loc1] = ['Extra Trees', train_time, test_time, dev_f1, transformation_names[ds]]\n",
    "    ##We need to adjust this DF to account for all the versions, unless we just get the max one\n",
    "    \n",
    "    print(\"Transformation:\", transformation_names[ds], dev_f1)\n",
    "   \n",
    "\n"
   ]
  },
  {
   "cell_type": "markdown",
   "metadata": {},
   "source": [
    "### XGBoost (Extreme Gradient Boosting)"
   ]
  },
  {
   "cell_type": "markdown",
   "metadata": {},
   "source": [
    "XGBoost uses gradient descent to compensate for some of the downsides of the previous decision tree model. It builds trees in series, and increases weights of incorrectly classified nodes, while decreasing those of the correctly classified. This uses the concept of \"boosting\" to continually improve a model by focusing on missclassifications."
   ]
  },
  {
   "cell_type": "code",
   "execution_count": 78,
   "metadata": {},
   "outputs": [
    {
     "ename": "KeyboardInterrupt",
     "evalue": "",
     "output_type": "error",
     "traceback": [
      "\u001b[0;31m---------------------------------------------------------------------------\u001b[0m",
      "\u001b[0;31mKeyboardInterrupt\u001b[0m                         Traceback (most recent call last)",
      "\u001b[0;32m<ipython-input-78-573052754889>\u001b[0m in \u001b[0;36m<module>\u001b[0;34m\u001b[0m\n\u001b[1;32m      3\u001b[0m \u001b[0;34m\u001b[0m\u001b[0m\n\u001b[1;32m      4\u001b[0m \u001b[0;34m\u001b[0m\u001b[0m\n\u001b[0;32m----> 5\u001b[0;31m \u001b[0mclf\u001b[0m\u001b[0;34m.\u001b[0m\u001b[0mfit\u001b[0m\u001b[0;34m(\u001b[0m\u001b[0mtrain_data\u001b[0m\u001b[0;34m,\u001b[0m \u001b[0mtrain_data_label\u001b[0m\u001b[0;34m)\u001b[0m\u001b[0;34m\u001b[0m\u001b[0;34m\u001b[0m\u001b[0m\n\u001b[0m\u001b[1;32m      6\u001b[0m \u001b[0;34m\u001b[0m\u001b[0m\n\u001b[1;32m      7\u001b[0m \u001b[0mprint\u001b[0m\u001b[0;34m(\u001b[0m\u001b[0;34m\"Best parameters:\"\u001b[0m\u001b[0;34m,\u001b[0m \u001b[0mclf\u001b[0m\u001b[0;34m.\u001b[0m\u001b[0mbest_params_\u001b[0m\u001b[0;34m)\u001b[0m\u001b[0;34m\u001b[0m\u001b[0;34m\u001b[0m\u001b[0m\n",
      "\u001b[0;32m~/opt/anaconda3/lib/python3.7/site-packages/sklearn/model_selection/_search.py\u001b[0m in \u001b[0;36mfit\u001b[0;34m(self, X, y, groups, **fit_params)\u001b[0m\n\u001b[1;32m    686\u001b[0m                 \u001b[0;32mreturn\u001b[0m \u001b[0mresults\u001b[0m\u001b[0;34m\u001b[0m\u001b[0;34m\u001b[0m\u001b[0m\n\u001b[1;32m    687\u001b[0m \u001b[0;34m\u001b[0m\u001b[0m\n\u001b[0;32m--> 688\u001b[0;31m             \u001b[0mself\u001b[0m\u001b[0;34m.\u001b[0m\u001b[0m_run_search\u001b[0m\u001b[0;34m(\u001b[0m\u001b[0mevaluate_candidates\u001b[0m\u001b[0;34m)\u001b[0m\u001b[0;34m\u001b[0m\u001b[0;34m\u001b[0m\u001b[0m\n\u001b[0m\u001b[1;32m    689\u001b[0m \u001b[0;34m\u001b[0m\u001b[0m\n\u001b[1;32m    690\u001b[0m         \u001b[0;31m# For multi-metric evaluation, store the best_index_, best_params_ and\u001b[0m\u001b[0;34m\u001b[0m\u001b[0;34m\u001b[0m\u001b[0;34m\u001b[0m\u001b[0m\n",
      "\u001b[0;32m~/opt/anaconda3/lib/python3.7/site-packages/sklearn/model_selection/_search.py\u001b[0m in \u001b[0;36m_run_search\u001b[0;34m(self, evaluate_candidates)\u001b[0m\n\u001b[1;32m   1147\u001b[0m     \u001b[0;32mdef\u001b[0m \u001b[0m_run_search\u001b[0m\u001b[0;34m(\u001b[0m\u001b[0mself\u001b[0m\u001b[0;34m,\u001b[0m \u001b[0mevaluate_candidates\u001b[0m\u001b[0;34m)\u001b[0m\u001b[0;34m:\u001b[0m\u001b[0;34m\u001b[0m\u001b[0;34m\u001b[0m\u001b[0m\n\u001b[1;32m   1148\u001b[0m         \u001b[0;34m\"\"\"Search all candidates in param_grid\"\"\"\u001b[0m\u001b[0;34m\u001b[0m\u001b[0;34m\u001b[0m\u001b[0m\n\u001b[0;32m-> 1149\u001b[0;31m         \u001b[0mevaluate_candidates\u001b[0m\u001b[0;34m(\u001b[0m\u001b[0mParameterGrid\u001b[0m\u001b[0;34m(\u001b[0m\u001b[0mself\u001b[0m\u001b[0;34m.\u001b[0m\u001b[0mparam_grid\u001b[0m\u001b[0;34m)\u001b[0m\u001b[0;34m)\u001b[0m\u001b[0;34m\u001b[0m\u001b[0;34m\u001b[0m\u001b[0m\n\u001b[0m\u001b[1;32m   1150\u001b[0m \u001b[0;34m\u001b[0m\u001b[0m\n\u001b[1;32m   1151\u001b[0m \u001b[0;34m\u001b[0m\u001b[0m\n",
      "\u001b[0;32m~/opt/anaconda3/lib/python3.7/site-packages/sklearn/model_selection/_search.py\u001b[0m in \u001b[0;36mevaluate_candidates\u001b[0;34m(candidate_params)\u001b[0m\n\u001b[1;32m    665\u001b[0m                                \u001b[0;32mfor\u001b[0m \u001b[0mparameters\u001b[0m\u001b[0;34m,\u001b[0m \u001b[0;34m(\u001b[0m\u001b[0mtrain\u001b[0m\u001b[0;34m,\u001b[0m \u001b[0mtest\u001b[0m\u001b[0;34m)\u001b[0m\u001b[0;34m\u001b[0m\u001b[0;34m\u001b[0m\u001b[0m\n\u001b[1;32m    666\u001b[0m                                in product(candidate_params,\n\u001b[0;32m--> 667\u001b[0;31m                                           cv.split(X, y, groups)))\n\u001b[0m\u001b[1;32m    668\u001b[0m \u001b[0;34m\u001b[0m\u001b[0m\n\u001b[1;32m    669\u001b[0m                 \u001b[0;32mif\u001b[0m \u001b[0mlen\u001b[0m\u001b[0;34m(\u001b[0m\u001b[0mout\u001b[0m\u001b[0;34m)\u001b[0m \u001b[0;34m<\u001b[0m \u001b[0;36m1\u001b[0m\u001b[0;34m:\u001b[0m\u001b[0;34m\u001b[0m\u001b[0;34m\u001b[0m\u001b[0m\n",
      "\u001b[0;32m~/opt/anaconda3/lib/python3.7/site-packages/joblib/parallel.py\u001b[0m in \u001b[0;36m__call__\u001b[0;34m(self, iterable)\u001b[0m\n\u001b[1;32m    922\u001b[0m                 \u001b[0mself\u001b[0m\u001b[0;34m.\u001b[0m\u001b[0m_iterating\u001b[0m \u001b[0;34m=\u001b[0m \u001b[0mself\u001b[0m\u001b[0;34m.\u001b[0m\u001b[0m_original_iterator\u001b[0m \u001b[0;32mis\u001b[0m \u001b[0;32mnot\u001b[0m \u001b[0;32mNone\u001b[0m\u001b[0;34m\u001b[0m\u001b[0;34m\u001b[0m\u001b[0m\n\u001b[1;32m    923\u001b[0m \u001b[0;34m\u001b[0m\u001b[0m\n\u001b[0;32m--> 924\u001b[0;31m             \u001b[0;32mwhile\u001b[0m \u001b[0mself\u001b[0m\u001b[0;34m.\u001b[0m\u001b[0mdispatch_one_batch\u001b[0m\u001b[0;34m(\u001b[0m\u001b[0miterator\u001b[0m\u001b[0;34m)\u001b[0m\u001b[0;34m:\u001b[0m\u001b[0;34m\u001b[0m\u001b[0;34m\u001b[0m\u001b[0m\n\u001b[0m\u001b[1;32m    925\u001b[0m                 \u001b[0;32mpass\u001b[0m\u001b[0;34m\u001b[0m\u001b[0;34m\u001b[0m\u001b[0m\n\u001b[1;32m    926\u001b[0m \u001b[0;34m\u001b[0m\u001b[0m\n",
      "\u001b[0;32m~/opt/anaconda3/lib/python3.7/site-packages/joblib/parallel.py\u001b[0m in \u001b[0;36mdispatch_one_batch\u001b[0;34m(self, iterator)\u001b[0m\n\u001b[1;32m    757\u001b[0m                 \u001b[0;32mreturn\u001b[0m \u001b[0;32mFalse\u001b[0m\u001b[0;34m\u001b[0m\u001b[0;34m\u001b[0m\u001b[0m\n\u001b[1;32m    758\u001b[0m             \u001b[0;32melse\u001b[0m\u001b[0;34m:\u001b[0m\u001b[0;34m\u001b[0m\u001b[0;34m\u001b[0m\u001b[0m\n\u001b[0;32m--> 759\u001b[0;31m                 \u001b[0mself\u001b[0m\u001b[0;34m.\u001b[0m\u001b[0m_dispatch\u001b[0m\u001b[0;34m(\u001b[0m\u001b[0mtasks\u001b[0m\u001b[0;34m)\u001b[0m\u001b[0;34m\u001b[0m\u001b[0;34m\u001b[0m\u001b[0m\n\u001b[0m\u001b[1;32m    760\u001b[0m                 \u001b[0;32mreturn\u001b[0m \u001b[0;32mTrue\u001b[0m\u001b[0;34m\u001b[0m\u001b[0;34m\u001b[0m\u001b[0m\n\u001b[1;32m    761\u001b[0m \u001b[0;34m\u001b[0m\u001b[0m\n",
      "\u001b[0;32m~/opt/anaconda3/lib/python3.7/site-packages/joblib/parallel.py\u001b[0m in \u001b[0;36m_dispatch\u001b[0;34m(self, batch)\u001b[0m\n\u001b[1;32m    714\u001b[0m         \u001b[0;32mwith\u001b[0m \u001b[0mself\u001b[0m\u001b[0;34m.\u001b[0m\u001b[0m_lock\u001b[0m\u001b[0;34m:\u001b[0m\u001b[0;34m\u001b[0m\u001b[0;34m\u001b[0m\u001b[0m\n\u001b[1;32m    715\u001b[0m             \u001b[0mjob_idx\u001b[0m \u001b[0;34m=\u001b[0m \u001b[0mlen\u001b[0m\u001b[0;34m(\u001b[0m\u001b[0mself\u001b[0m\u001b[0;34m.\u001b[0m\u001b[0m_jobs\u001b[0m\u001b[0;34m)\u001b[0m\u001b[0;34m\u001b[0m\u001b[0;34m\u001b[0m\u001b[0m\n\u001b[0;32m--> 716\u001b[0;31m             \u001b[0mjob\u001b[0m \u001b[0;34m=\u001b[0m \u001b[0mself\u001b[0m\u001b[0;34m.\u001b[0m\u001b[0m_backend\u001b[0m\u001b[0;34m.\u001b[0m\u001b[0mapply_async\u001b[0m\u001b[0;34m(\u001b[0m\u001b[0mbatch\u001b[0m\u001b[0;34m,\u001b[0m \u001b[0mcallback\u001b[0m\u001b[0;34m=\u001b[0m\u001b[0mcb\u001b[0m\u001b[0;34m)\u001b[0m\u001b[0;34m\u001b[0m\u001b[0;34m\u001b[0m\u001b[0m\n\u001b[0m\u001b[1;32m    717\u001b[0m             \u001b[0;31m# A job can complete so quickly than its callback is\u001b[0m\u001b[0;34m\u001b[0m\u001b[0;34m\u001b[0m\u001b[0;34m\u001b[0m\u001b[0m\n\u001b[1;32m    718\u001b[0m             \u001b[0;31m# called before we get here, causing self._jobs to\u001b[0m\u001b[0;34m\u001b[0m\u001b[0;34m\u001b[0m\u001b[0;34m\u001b[0m\u001b[0m\n",
      "\u001b[0;32m~/opt/anaconda3/lib/python3.7/site-packages/joblib/_parallel_backends.py\u001b[0m in \u001b[0;36mapply_async\u001b[0;34m(self, func, callback)\u001b[0m\n\u001b[1;32m    180\u001b[0m     \u001b[0;32mdef\u001b[0m \u001b[0mapply_async\u001b[0m\u001b[0;34m(\u001b[0m\u001b[0mself\u001b[0m\u001b[0;34m,\u001b[0m \u001b[0mfunc\u001b[0m\u001b[0;34m,\u001b[0m \u001b[0mcallback\u001b[0m\u001b[0;34m=\u001b[0m\u001b[0;32mNone\u001b[0m\u001b[0;34m)\u001b[0m\u001b[0;34m:\u001b[0m\u001b[0;34m\u001b[0m\u001b[0;34m\u001b[0m\u001b[0m\n\u001b[1;32m    181\u001b[0m         \u001b[0;34m\"\"\"Schedule a func to be run\"\"\"\u001b[0m\u001b[0;34m\u001b[0m\u001b[0;34m\u001b[0m\u001b[0m\n\u001b[0;32m--> 182\u001b[0;31m         \u001b[0mresult\u001b[0m \u001b[0;34m=\u001b[0m \u001b[0mImmediateResult\u001b[0m\u001b[0;34m(\u001b[0m\u001b[0mfunc\u001b[0m\u001b[0;34m)\u001b[0m\u001b[0;34m\u001b[0m\u001b[0;34m\u001b[0m\u001b[0m\n\u001b[0m\u001b[1;32m    183\u001b[0m         \u001b[0;32mif\u001b[0m \u001b[0mcallback\u001b[0m\u001b[0;34m:\u001b[0m\u001b[0;34m\u001b[0m\u001b[0;34m\u001b[0m\u001b[0m\n\u001b[1;32m    184\u001b[0m             \u001b[0mcallback\u001b[0m\u001b[0;34m(\u001b[0m\u001b[0mresult\u001b[0m\u001b[0;34m)\u001b[0m\u001b[0;34m\u001b[0m\u001b[0;34m\u001b[0m\u001b[0m\n",
      "\u001b[0;32m~/opt/anaconda3/lib/python3.7/site-packages/joblib/_parallel_backends.py\u001b[0m in \u001b[0;36m__init__\u001b[0;34m(self, batch)\u001b[0m\n\u001b[1;32m    547\u001b[0m         \u001b[0;31m# Don't delay the application, to avoid keeping the input\u001b[0m\u001b[0;34m\u001b[0m\u001b[0;34m\u001b[0m\u001b[0;34m\u001b[0m\u001b[0m\n\u001b[1;32m    548\u001b[0m         \u001b[0;31m# arguments in memory\u001b[0m\u001b[0;34m\u001b[0m\u001b[0;34m\u001b[0m\u001b[0;34m\u001b[0m\u001b[0m\n\u001b[0;32m--> 549\u001b[0;31m         \u001b[0mself\u001b[0m\u001b[0;34m.\u001b[0m\u001b[0mresults\u001b[0m \u001b[0;34m=\u001b[0m \u001b[0mbatch\u001b[0m\u001b[0;34m(\u001b[0m\u001b[0;34m)\u001b[0m\u001b[0;34m\u001b[0m\u001b[0;34m\u001b[0m\u001b[0m\n\u001b[0m\u001b[1;32m    550\u001b[0m \u001b[0;34m\u001b[0m\u001b[0m\n\u001b[1;32m    551\u001b[0m     \u001b[0;32mdef\u001b[0m \u001b[0mget\u001b[0m\u001b[0;34m(\u001b[0m\u001b[0mself\u001b[0m\u001b[0;34m)\u001b[0m\u001b[0;34m:\u001b[0m\u001b[0;34m\u001b[0m\u001b[0;34m\u001b[0m\u001b[0m\n",
      "\u001b[0;32m~/opt/anaconda3/lib/python3.7/site-packages/joblib/parallel.py\u001b[0m in \u001b[0;36m__call__\u001b[0;34m(self)\u001b[0m\n\u001b[1;32m    223\u001b[0m         \u001b[0;32mwith\u001b[0m \u001b[0mparallel_backend\u001b[0m\u001b[0;34m(\u001b[0m\u001b[0mself\u001b[0m\u001b[0;34m.\u001b[0m\u001b[0m_backend\u001b[0m\u001b[0;34m,\u001b[0m \u001b[0mn_jobs\u001b[0m\u001b[0;34m=\u001b[0m\u001b[0mself\u001b[0m\u001b[0;34m.\u001b[0m\u001b[0m_n_jobs\u001b[0m\u001b[0;34m)\u001b[0m\u001b[0;34m:\u001b[0m\u001b[0;34m\u001b[0m\u001b[0;34m\u001b[0m\u001b[0m\n\u001b[1;32m    224\u001b[0m             return [func(*args, **kwargs)\n\u001b[0;32m--> 225\u001b[0;31m                     for func, args, kwargs in self.items]\n\u001b[0m\u001b[1;32m    226\u001b[0m \u001b[0;34m\u001b[0m\u001b[0m\n\u001b[1;32m    227\u001b[0m     \u001b[0;32mdef\u001b[0m \u001b[0m__len__\u001b[0m\u001b[0;34m(\u001b[0m\u001b[0mself\u001b[0m\u001b[0;34m)\u001b[0m\u001b[0;34m:\u001b[0m\u001b[0;34m\u001b[0m\u001b[0;34m\u001b[0m\u001b[0m\n",
      "\u001b[0;32m~/opt/anaconda3/lib/python3.7/site-packages/joblib/parallel.py\u001b[0m in \u001b[0;36m<listcomp>\u001b[0;34m(.0)\u001b[0m\n\u001b[1;32m    223\u001b[0m         \u001b[0;32mwith\u001b[0m \u001b[0mparallel_backend\u001b[0m\u001b[0;34m(\u001b[0m\u001b[0mself\u001b[0m\u001b[0;34m.\u001b[0m\u001b[0m_backend\u001b[0m\u001b[0;34m,\u001b[0m \u001b[0mn_jobs\u001b[0m\u001b[0;34m=\u001b[0m\u001b[0mself\u001b[0m\u001b[0;34m.\u001b[0m\u001b[0m_n_jobs\u001b[0m\u001b[0;34m)\u001b[0m\u001b[0;34m:\u001b[0m\u001b[0;34m\u001b[0m\u001b[0;34m\u001b[0m\u001b[0m\n\u001b[1;32m    224\u001b[0m             return [func(*args, **kwargs)\n\u001b[0;32m--> 225\u001b[0;31m                     for func, args, kwargs in self.items]\n\u001b[0m\u001b[1;32m    226\u001b[0m \u001b[0;34m\u001b[0m\u001b[0m\n\u001b[1;32m    227\u001b[0m     \u001b[0;32mdef\u001b[0m \u001b[0m__len__\u001b[0m\u001b[0;34m(\u001b[0m\u001b[0mself\u001b[0m\u001b[0;34m)\u001b[0m\u001b[0;34m:\u001b[0m\u001b[0;34m\u001b[0m\u001b[0;34m\u001b[0m\u001b[0m\n",
      "\u001b[0;32m~/opt/anaconda3/lib/python3.7/site-packages/sklearn/model_selection/_validation.py\u001b[0m in \u001b[0;36m_fit_and_score\u001b[0;34m(estimator, X, y, scorer, train, test, verbose, parameters, fit_params, return_train_score, return_parameters, return_n_test_samples, return_times, return_estimator, error_score)\u001b[0m\n\u001b[1;32m    514\u001b[0m             \u001b[0mestimator\u001b[0m\u001b[0;34m.\u001b[0m\u001b[0mfit\u001b[0m\u001b[0;34m(\u001b[0m\u001b[0mX_train\u001b[0m\u001b[0;34m,\u001b[0m \u001b[0;34m**\u001b[0m\u001b[0mfit_params\u001b[0m\u001b[0;34m)\u001b[0m\u001b[0;34m\u001b[0m\u001b[0;34m\u001b[0m\u001b[0m\n\u001b[1;32m    515\u001b[0m         \u001b[0;32melse\u001b[0m\u001b[0;34m:\u001b[0m\u001b[0;34m\u001b[0m\u001b[0;34m\u001b[0m\u001b[0m\n\u001b[0;32m--> 516\u001b[0;31m             \u001b[0mestimator\u001b[0m\u001b[0;34m.\u001b[0m\u001b[0mfit\u001b[0m\u001b[0;34m(\u001b[0m\u001b[0mX_train\u001b[0m\u001b[0;34m,\u001b[0m \u001b[0my_train\u001b[0m\u001b[0;34m,\u001b[0m \u001b[0;34m**\u001b[0m\u001b[0mfit_params\u001b[0m\u001b[0;34m)\u001b[0m\u001b[0;34m\u001b[0m\u001b[0;34m\u001b[0m\u001b[0m\n\u001b[0m\u001b[1;32m    517\u001b[0m \u001b[0;34m\u001b[0m\u001b[0m\n\u001b[1;32m    518\u001b[0m     \u001b[0;32mexcept\u001b[0m \u001b[0mException\u001b[0m \u001b[0;32mas\u001b[0m \u001b[0me\u001b[0m\u001b[0;34m:\u001b[0m\u001b[0;34m\u001b[0m\u001b[0;34m\u001b[0m\u001b[0m\n",
      "\u001b[0;32m~/opt/anaconda3/lib/python3.7/site-packages/xgboost/sklearn.py\u001b[0m in \u001b[0;36mfit\u001b[0;34m(self, X, y, sample_weight, eval_set, eval_metric, early_stopping_rounds, verbose, xgb_model, sample_weight_eval_set, callbacks)\u001b[0m\n\u001b[1;32m    730\u001b[0m                               \u001b[0mevals_result\u001b[0m\u001b[0;34m=\u001b[0m\u001b[0mevals_result\u001b[0m\u001b[0;34m,\u001b[0m \u001b[0mobj\u001b[0m\u001b[0;34m=\u001b[0m\u001b[0mobj\u001b[0m\u001b[0;34m,\u001b[0m \u001b[0mfeval\u001b[0m\u001b[0;34m=\u001b[0m\u001b[0mfeval\u001b[0m\u001b[0;34m,\u001b[0m\u001b[0;34m\u001b[0m\u001b[0;34m\u001b[0m\u001b[0m\n\u001b[1;32m    731\u001b[0m                               \u001b[0mverbose_eval\u001b[0m\u001b[0;34m=\u001b[0m\u001b[0mverbose\u001b[0m\u001b[0;34m,\u001b[0m \u001b[0mxgb_model\u001b[0m\u001b[0;34m=\u001b[0m\u001b[0mxgb_model\u001b[0m\u001b[0;34m,\u001b[0m\u001b[0;34m\u001b[0m\u001b[0;34m\u001b[0m\u001b[0m\n\u001b[0;32m--> 732\u001b[0;31m                               callbacks=callbacks)\n\u001b[0m\u001b[1;32m    733\u001b[0m \u001b[0;34m\u001b[0m\u001b[0m\n\u001b[1;32m    734\u001b[0m         \u001b[0mself\u001b[0m\u001b[0;34m.\u001b[0m\u001b[0mobjective\u001b[0m \u001b[0;34m=\u001b[0m \u001b[0mxgb_options\u001b[0m\u001b[0;34m[\u001b[0m\u001b[0;34m\"objective\"\u001b[0m\u001b[0;34m]\u001b[0m\u001b[0;34m\u001b[0m\u001b[0;34m\u001b[0m\u001b[0m\n",
      "\u001b[0;32m~/opt/anaconda3/lib/python3.7/site-packages/xgboost/training.py\u001b[0m in \u001b[0;36mtrain\u001b[0;34m(params, dtrain, num_boost_round, evals, obj, feval, maximize, early_stopping_rounds, evals_result, verbose_eval, xgb_model, callbacks, learning_rates)\u001b[0m\n\u001b[1;32m    214\u001b[0m                            \u001b[0mevals\u001b[0m\u001b[0;34m=\u001b[0m\u001b[0mevals\u001b[0m\u001b[0;34m,\u001b[0m\u001b[0;34m\u001b[0m\u001b[0;34m\u001b[0m\u001b[0m\n\u001b[1;32m    215\u001b[0m                            \u001b[0mobj\u001b[0m\u001b[0;34m=\u001b[0m\u001b[0mobj\u001b[0m\u001b[0;34m,\u001b[0m \u001b[0mfeval\u001b[0m\u001b[0;34m=\u001b[0m\u001b[0mfeval\u001b[0m\u001b[0;34m,\u001b[0m\u001b[0;34m\u001b[0m\u001b[0;34m\u001b[0m\u001b[0m\n\u001b[0;32m--> 216\u001b[0;31m                            xgb_model=xgb_model, callbacks=callbacks)\n\u001b[0m\u001b[1;32m    217\u001b[0m \u001b[0;34m\u001b[0m\u001b[0m\n\u001b[1;32m    218\u001b[0m \u001b[0;34m\u001b[0m\u001b[0m\n",
      "\u001b[0;32m~/opt/anaconda3/lib/python3.7/site-packages/xgboost/training.py\u001b[0m in \u001b[0;36m_train_internal\u001b[0;34m(params, dtrain, num_boost_round, evals, obj, feval, xgb_model, callbacks)\u001b[0m\n\u001b[1;32m     72\u001b[0m         \u001b[0;31m# Skip the first update if it is a recovery step.\u001b[0m\u001b[0;34m\u001b[0m\u001b[0;34m\u001b[0m\u001b[0;34m\u001b[0m\u001b[0m\n\u001b[1;32m     73\u001b[0m         \u001b[0;32mif\u001b[0m \u001b[0mversion\u001b[0m \u001b[0;34m%\u001b[0m \u001b[0;36m2\u001b[0m \u001b[0;34m==\u001b[0m \u001b[0;36m0\u001b[0m\u001b[0;34m:\u001b[0m\u001b[0;34m\u001b[0m\u001b[0;34m\u001b[0m\u001b[0m\n\u001b[0;32m---> 74\u001b[0;31m             \u001b[0mbst\u001b[0m\u001b[0;34m.\u001b[0m\u001b[0mupdate\u001b[0m\u001b[0;34m(\u001b[0m\u001b[0mdtrain\u001b[0m\u001b[0;34m,\u001b[0m \u001b[0mi\u001b[0m\u001b[0;34m,\u001b[0m \u001b[0mobj\u001b[0m\u001b[0;34m)\u001b[0m\u001b[0;34m\u001b[0m\u001b[0;34m\u001b[0m\u001b[0m\n\u001b[0m\u001b[1;32m     75\u001b[0m             \u001b[0mbst\u001b[0m\u001b[0;34m.\u001b[0m\u001b[0msave_rabit_checkpoint\u001b[0m\u001b[0;34m(\u001b[0m\u001b[0;34m)\u001b[0m\u001b[0;34m\u001b[0m\u001b[0;34m\u001b[0m\u001b[0m\n\u001b[1;32m     76\u001b[0m             \u001b[0mversion\u001b[0m \u001b[0;34m+=\u001b[0m \u001b[0;36m1\u001b[0m\u001b[0;34m\u001b[0m\u001b[0;34m\u001b[0m\u001b[0m\n",
      "\u001b[0;32m~/opt/anaconda3/lib/python3.7/site-packages/xgboost/core.py\u001b[0m in \u001b[0;36mupdate\u001b[0;34m(self, dtrain, iteration, fobj)\u001b[0m\n\u001b[1;32m   1107\u001b[0m         \u001b[0;32mif\u001b[0m \u001b[0mfobj\u001b[0m \u001b[0;32mis\u001b[0m \u001b[0;32mNone\u001b[0m\u001b[0;34m:\u001b[0m\u001b[0;34m\u001b[0m\u001b[0;34m\u001b[0m\u001b[0m\n\u001b[1;32m   1108\u001b[0m             _check_call(_LIB.XGBoosterUpdateOneIter(self.handle, ctypes.c_int(iteration),\n\u001b[0;32m-> 1109\u001b[0;31m                                                     dtrain.handle))\n\u001b[0m\u001b[1;32m   1110\u001b[0m         \u001b[0;32melse\u001b[0m\u001b[0;34m:\u001b[0m\u001b[0;34m\u001b[0m\u001b[0;34m\u001b[0m\u001b[0m\n\u001b[1;32m   1111\u001b[0m             \u001b[0mpred\u001b[0m \u001b[0;34m=\u001b[0m \u001b[0mself\u001b[0m\u001b[0;34m.\u001b[0m\u001b[0mpredict\u001b[0m\u001b[0;34m(\u001b[0m\u001b[0mdtrain\u001b[0m\u001b[0;34m)\u001b[0m\u001b[0;34m\u001b[0m\u001b[0;34m\u001b[0m\u001b[0m\n",
      "\u001b[0;31mKeyboardInterrupt\u001b[0m: "
     ]
    }
   ],
   "source": [
    "params = {'learning_rate': [0.01, 0.05, 0.1], 'n_estimators': [50,100,200,500], 'max_depth': [10, 20, 30]}\n",
    "clf = GridSearchCV(xgb.XGBClassifier(), params)\n",
    "\n",
    "\n",
    "clf.fit(train_data, train_data_label)\n",
    "\n",
    "print(\"Best parameters:\", clf.best_params_) "
   ]
  },
  {
   "cell_type": "code",
   "execution_count": 95,
   "metadata": {},
   "outputs": [
    {
     "name": "stdout",
     "output_type": "stream",
     "text": [
      "Transformation: None F1 Score = 0.845\n",
      "Transformation: Normalize F1 Score = 0.839\n",
      "Transformation: Feat Selector RF F1 Score = 0.831\n",
      "Transformation: Feat Eng F1 Score = 0.845\n",
      "Transformation: Remove Binaries F1 Score = 0.845\n"
     ]
    }
   ],
   "source": [
    "for ds in range(len(train_datasets)):\n",
    "    loc1 = model_performance_df['Model Name'].notna()[::-1].idxmax()+1\n",
    "    xgb_clf = xgb.XGBClassifier(max_depth = 10, n_estimators = 50, learning_rate = 0.1)\n",
    "\n",
    "    start_train = time.time()\n",
    "    xgb_clf.fit(train_datasets[ds], train_data_label) # Fitting the train data to the classifier   \n",
    "    end_train = time.time()\n",
    "    train_time = str(round(end_train - start_train, 2))\n",
    "\n",
    "    # Make prediction on dev data\n",
    "    start_test = time.time()\n",
    "    pred = xgb_clf.predict(dev_datasets[ds])\n",
    "    end_test = time.time()\n",
    "    test_time = str(round(end_test - start_test, 2))\n",
    "\n",
    "    # Store metrics\n",
    "    dev_f1 = round(metrics.f1_score(dev_data_label, pred, average='macro'), 3)\n",
    "    print(\"Transformation:\", transformation_names[ds], \"F1 Score = \" + str(dev_f1))\n",
    "    model_performance_df.iloc[loc1] = ['Extreme Gradient Boost', train_time, test_time, dev_f1, transformation_names[ds]]\n",
    "    "
   ]
  },
  {
   "cell_type": "markdown",
   "metadata": {},
   "source": [
    "### Suport Vector Machines (SVMs)"
   ]
  },
  {
   "cell_type": "markdown",
   "metadata": {},
   "source": [
    "Support Vector Machines are a fast supervised learning model that perform non-linear classification. "
   ]
  },
  {
   "cell_type": "code",
   "execution_count": null,
   "metadata": {},
   "outputs": [],
   "source": [
    "# NOTE - this step takes time - implement only once\n",
    "#THIS IS TOO SLOW..\n",
    "from sklearn.svm import SVC\n",
    "from sklearn.model_selection import GridSearchCV\n",
    "\n",
    "params = {'kernel': ['rbf'], 'gamma': [0.5, 0.1, 0.05], 'C': [1, 10, 50, 100]}\n",
    "clf = GridSearchCV(SVC(), params)\n",
    "\n",
    "\n",
    "\n",
    "clf.fit(train_data, train_data_label)\n",
    "print(\"Best parameters:\", clf.best_params_) \n"
   ]
  },
  {
   "cell_type": "code",
   "execution_count": null,
   "metadata": {},
   "outputs": [],
   "source": []
  },
  {
   "cell_type": "code",
   "execution_count": 96,
   "metadata": {},
   "outputs": [
    {
     "name": "stderr",
     "output_type": "stream",
     "text": [
      "/Users/shalac/opt/anaconda3/lib/python3.7/site-packages/sklearn/metrics/classification.py:1437: UndefinedMetricWarning: F-score is ill-defined and being set to 0.0 in labels with no predicted samples.\n",
      "  'precision', 'predicted', average, warn_for)\n"
     ]
    },
    {
     "name": "stdout",
     "output_type": "stream",
     "text": [
      "Transformation: None F1 Score = 0.038\n",
      "Transformation: Normalize F1 Score = 0.738\n"
     ]
    },
    {
     "name": "stderr",
     "output_type": "stream",
     "text": [
      "/Users/shalac/opt/anaconda3/lib/python3.7/site-packages/sklearn/metrics/classification.py:1437: UndefinedMetricWarning: F-score is ill-defined and being set to 0.0 in labels with no predicted samples.\n",
      "  'precision', 'predicted', average, warn_for)\n"
     ]
    },
    {
     "name": "stdout",
     "output_type": "stream",
     "text": [
      "Transformation: Feat Selector RF F1 Score = 0.038\n"
     ]
    },
    {
     "name": "stderr",
     "output_type": "stream",
     "text": [
      "/Users/shalac/opt/anaconda3/lib/python3.7/site-packages/sklearn/metrics/classification.py:1437: UndefinedMetricWarning: F-score is ill-defined and being set to 0.0 in labels with no predicted samples.\n",
      "  'precision', 'predicted', average, warn_for)\n"
     ]
    },
    {
     "name": "stdout",
     "output_type": "stream",
     "text": [
      "Transformation: Feat Eng F1 Score = 0.038\n",
      "Transformation: Remove Binaries F1 Score = 0.038\n"
     ]
    },
    {
     "name": "stderr",
     "output_type": "stream",
     "text": [
      "/Users/shalac/opt/anaconda3/lib/python3.7/site-packages/sklearn/metrics/classification.py:1437: UndefinedMetricWarning: F-score is ill-defined and being set to 0.0 in labels with no predicted samples.\n",
      "  'precision', 'predicted', average, warn_for)\n"
     ]
    }
   ],
   "source": [
    "# Pipeline for fitting model, making predictions, and saving performance metrics\n",
    "# Using the values for the params from the grid search above\n",
    "# SVM F1 score is very low for some reason\n",
    "from sklearn.svm import SVC\n",
    "\n",
    "svm_clf =  SVC(kernel=\"rbf\", gamma=.1, C=50)\n",
    "for ds in range(len(train_datasets)):\n",
    "    loc1 = model_performance_df['Model Name'].notna()[::-1].idxmax()+1\n",
    "\n",
    "    start_train = time.time()\n",
    "    svm_clf.fit(train_datasets[ds], train_data_label) # Fitting the train data to the classifier   \n",
    "    end_train = time.time()\n",
    "    train_time = str(round(end_train - start_train, 2))\n",
    "\n",
    "    # Make prediction on dev data\n",
    "    start_test = time.time()\n",
    "    pred = svm_clf.predict(dev_datasets[ds])\n",
    "    end_test = time.time()\n",
    "    test_time = str(round(end_test - start_test, 2))\n",
    "\n",
    "    # Store metrics\n",
    "    dev_f1 = round(metrics.f1_score(dev_data_label, pred, average='macro'), 3)\n",
    "    print(\"Transformation:\", transformation_names[ds], \"F1 Score = \" + str(dev_f1))\n",
    "    model_performance_df.iloc[loc1] = ['SVM', train_time, test_time, dev_f1, transformation_names[ds]]"
   ]
  },
  {
   "cell_type": "code",
   "execution_count": null,
   "metadata": {},
   "outputs": [],
   "source": [
    "params = {'kernel': ['rbf'], 'gamma': [0.5, 0.1, 0.05], 'C': [1, 10, 50, 100]}\n",
    "clf = GridSearchCV(SVC(), params)\n",
    "\n",
    "clf.fit(train_data, train_data_label)\n",
    "print(\"Best parameters:\", clf.best_params_) "
   ]
  },
  {
   "cell_type": "code",
   "execution_count": 97,
   "metadata": {},
   "outputs": [
    {
     "name": "stderr",
     "output_type": "stream",
     "text": [
      "/Users/shalac/opt/anaconda3/lib/python3.7/site-packages/sklearn/metrics/classification.py:1437: UndefinedMetricWarning: F-score is ill-defined and being set to 0.0 in labels with no predicted samples.\n",
      "  'precision', 'predicted', average, warn_for)\n"
     ]
    },
    {
     "name": "stdout",
     "output_type": "stream",
     "text": [
      "Transformation: None F1 Score = 0.042\n",
      "Transformation: Normalize F1 Score = 0.696\n"
     ]
    },
    {
     "name": "stderr",
     "output_type": "stream",
     "text": [
      "/Users/shalac/opt/anaconda3/lib/python3.7/site-packages/sklearn/metrics/classification.py:1437: UndefinedMetricWarning: F-score is ill-defined and being set to 0.0 in labels with no predicted samples.\n",
      "  'precision', 'predicted', average, warn_for)\n"
     ]
    },
    {
     "name": "stdout",
     "output_type": "stream",
     "text": [
      "Transformation: Feat Selector RF F1 Score = 0.042\n"
     ]
    },
    {
     "name": "stderr",
     "output_type": "stream",
     "text": [
      "/Users/shalac/opt/anaconda3/lib/python3.7/site-packages/sklearn/metrics/classification.py:1437: UndefinedMetricWarning: F-score is ill-defined and being set to 0.0 in labels with no predicted samples.\n",
      "  'precision', 'predicted', average, warn_for)\n"
     ]
    },
    {
     "name": "stdout",
     "output_type": "stream",
     "text": [
      "Transformation: Feat Eng F1 Score = 0.042\n",
      "Transformation: Remove Binaries F1 Score = 0.042\n"
     ]
    },
    {
     "name": "stderr",
     "output_type": "stream",
     "text": [
      "/Users/shalac/opt/anaconda3/lib/python3.7/site-packages/sklearn/metrics/classification.py:1437: UndefinedMetricWarning: F-score is ill-defined and being set to 0.0 in labels with no predicted samples.\n",
      "  'precision', 'predicted', average, warn_for)\n"
     ]
    }
   ],
   "source": [
    "# Pipeline for fitting model, making predictions, and saving performance metrics\n",
    "# Using the values for the params from the grid search above\n",
    "# My SVM is busted \n",
    "\n",
    "svm_clf =  SVC(kernel=\"rbf\", gamma=.5, C=10)\n",
    "for ds in range(len(train_datasets)):\n",
    "    loc1 = model_performance_df['Model Name'].notna()[::-1].idxmax()+1\n",
    "    start_train = time.time()\n",
    "    svm_clf.fit(train_datasets[ds], train_data_label) # Fitting the train data to the classifier   \n",
    "    end_train = time.time()\n",
    "    train_time = str(round(end_train - start_train, 2))\n",
    "\n",
    "    # Make prediction on dev data\n",
    "    start_test = time.time()\n",
    "    pred = svm_clf.predict(dev_datasets[ds])\n",
    "    end_test = time.time()\n",
    "    test_time = str(round(end_test - start_test, 2))\n",
    "\n",
    "    # Store metrics\n",
    "    dev_f1 = round(metrics.f1_score(dev_data_label, pred, average='macro'), 3)\n",
    "    print(\"Transformation:\", transformation_names[ds], \"F1 Score = \" + str(dev_f1))\n",
    "    model_performance_df.iloc[loc1] = ['SVM-2', train_time, test_time, dev_f1, transformation_names[ds]]"
   ]
  },
  {
   "cell_type": "markdown",
   "metadata": {},
   "source": [
    "### Re-run KNN"
   ]
  },
  {
   "cell_type": "code",
   "execution_count": 98,
   "metadata": {},
   "outputs": [
    {
     "name": "stdout",
     "output_type": "stream",
     "text": [
      "Transformation: None 0.837\n",
      "Transformation: Normalize 0.6888\n",
      "Transformation: Feat Selector RF 0.8374\n",
      "Transformation: Feat Eng 0.837\n",
      "Transformation: Remove Binaries 0.835\n"
     ]
    },
    {
     "data": {
      "image/png": "[encoded data removed]",
      "text/plain": [
       "<Figure size 432x288 with 1 Axes>"
      ]
     },
     "metadata": {
      "needs_background": "light"
     },
     "output_type": "display_data"
    }
   ],
   "source": [
    "#create a KNN model with varying nearest neighbors as the baseline\n",
    "#We chose to loop through values from 1 to 20 to assess the F1 scores the KNN algorithm\n",
    "\n",
    "\n",
    "for ds in range(len(train_datasets)):\n",
    "    loc1 = model_performance_df['Model Name'].notna()[::-1].idxmax()+1\n",
    "    f1_2 = []\n",
    "    for i in range(1,11):\n",
    "        knn_model_2 = KNeighborsClassifier(n_neighbors = i)\n",
    "        start_train = time.time()\n",
    "        knn_model_2.fit(train_datasets[ds], train_data_label)\n",
    "        end_train = time.time()\n",
    "        train_time = str(round(end_train - start_train, 2))\n",
    "        \n",
    "        start_test = time.time()\n",
    "        y_dev_pred = knn_model_2.predict(dev_datasets[ds])\n",
    "        end_test = time.time()\n",
    "        test_time = str(round(end_test - start_test, 2))\n",
    "        knn_f1_2 = round(metrics.f1_score(dev_data_label, y_dev_pred, average='macro'),4)\n",
    "        f1_2.append(knn_f1_2)\n",
    "        #print(\"Transformation:\", transformation_names[ds])\n",
    "        #print(\"F1 score of baseline knn = \" + str(knn_f1_2))\n",
    "    max_f1 = max(f1_2)\n",
    "    print(\"Transformation:\", transformation_names[ds],max_f1)\n",
    "    plt.plot(range(1,11), f1_2)\n",
    "    plt.xlim(1,10)\n",
    "    plt.ylim(0,1)\n",
    "    plt.xlabel(\"K value\")\n",
    "    plt.ylabel(\"F1 Score\")\n",
    "    plt.title(\"K value vs F1 Score - \")#, transformation_names[ds])\n",
    "    plt.legend(transformation_names)\n",
    "    model_performance_df.iloc[loc1] = ['KNN', train_time, test_time, max_f1, transformation_names[ds]]\n",
    "    \n"
   ]
  },
  {
   "cell_type": "markdown",
   "metadata": {},
   "source": [
    "## Results Summary"
   ]
  },
  {
   "cell_type": "code",
   "execution_count": 99,
   "metadata": {},
   "outputs": [
    {
     "data": {
      "text/html": [
       "<div>\n",
       "<style scoped>\n",
       "    .dataframe tbody tr th:only-of-type {\n",
       "        vertical-align: middle;\n",
       "    }\n",
       "\n",
       "    .dataframe tbody tr th {\n",
       "        vertical-align: top;\n",
       "    }\n",
       "\n",
       "    .dataframe thead th {\n",
       "        text-align: right;\n",
       "    }\n",
       "</style>\n",
       "<table border=\"1\" class=\"dataframe\">\n",
       "  <thead>\n",
       "    <tr style=\"text-align: right;\">\n",
       "      <th></th>\n",
       "      <th>Model Name</th>\n",
       "      <th>Train Time(s)</th>\n",
       "      <th>Prediction Time(s)</th>\n",
       "      <th>F1 Score</th>\n",
       "      <th>Pre-processor</th>\n",
       "    </tr>\n",
       "  </thead>\n",
       "  <tbody>\n",
       "    <tr>\n",
       "      <td>14</td>\n",
       "      <td>Extra Trees</td>\n",
       "      <td>7.25</td>\n",
       "      <td>0.3</td>\n",
       "      <td>0.875</td>\n",
       "      <td>Remove Binaries</td>\n",
       "    </tr>\n",
       "    <tr>\n",
       "      <td>13</td>\n",
       "      <td>Extra Trees</td>\n",
       "      <td>11.52</td>\n",
       "      <td>0.3</td>\n",
       "      <td>0.874</td>\n",
       "      <td>Feat Eng</td>\n",
       "    </tr>\n",
       "    <tr>\n",
       "      <td>10</td>\n",
       "      <td>Extra Trees</td>\n",
       "      <td>12.03</td>\n",
       "      <td>0.3</td>\n",
       "      <td>0.873</td>\n",
       "      <td>None</td>\n",
       "    </tr>\n",
       "    <tr>\n",
       "      <td>11</td>\n",
       "      <td>Extra Trees</td>\n",
       "      <td>12.66</td>\n",
       "      <td>0.4</td>\n",
       "      <td>0.872</td>\n",
       "      <td>Normalize</td>\n",
       "    </tr>\n",
       "    <tr>\n",
       "      <td>12</td>\n",
       "      <td>Extra Trees</td>\n",
       "      <td>7.12</td>\n",
       "      <td>0.31</td>\n",
       "      <td>0.862</td>\n",
       "      <td>Feat Selector RF</td>\n",
       "    </tr>\n",
       "    <tr>\n",
       "      <td>9</td>\n",
       "      <td>Random Forest</td>\n",
       "      <td>2.97</td>\n",
       "      <td>0.11</td>\n",
       "      <td>0.853</td>\n",
       "      <td>Remove Binaries</td>\n",
       "    </tr>\n",
       "    <tr>\n",
       "      <td>5</td>\n",
       "      <td>Random Forest</td>\n",
       "      <td>2.67</td>\n",
       "      <td>0.11</td>\n",
       "      <td>0.848</td>\n",
       "      <td>None</td>\n",
       "    </tr>\n",
       "    <tr>\n",
       "      <td>7</td>\n",
       "      <td>Random Forest</td>\n",
       "      <td>2.81</td>\n",
       "      <td>0.11</td>\n",
       "      <td>0.848</td>\n",
       "      <td>Feat Selector RF</td>\n",
       "    </tr>\n",
       "    <tr>\n",
       "      <td>8</td>\n",
       "      <td>Random Forest</td>\n",
       "      <td>2.76</td>\n",
       "      <td>0.12</td>\n",
       "      <td>0.848</td>\n",
       "      <td>Feat Eng</td>\n",
       "    </tr>\n",
       "    <tr>\n",
       "      <td>15</td>\n",
       "      <td>Extreme Gradient Boost</td>\n",
       "      <td>22.42</td>\n",
       "      <td>0.08</td>\n",
       "      <td>0.845</td>\n",
       "      <td>None</td>\n",
       "    </tr>\n",
       "    <tr>\n",
       "      <td>19</td>\n",
       "      <td>Extreme Gradient Boost</td>\n",
       "      <td>8.64</td>\n",
       "      <td>0.06</td>\n",
       "      <td>0.845</td>\n",
       "      <td>Remove Binaries</td>\n",
       "    </tr>\n",
       "    <tr>\n",
       "      <td>18</td>\n",
       "      <td>Extreme Gradient Boost</td>\n",
       "      <td>23.11</td>\n",
       "      <td>0.1</td>\n",
       "      <td>0.845</td>\n",
       "      <td>Feat Eng</td>\n",
       "    </tr>\n",
       "    <tr>\n",
       "      <td>6</td>\n",
       "      <td>Random Forest</td>\n",
       "      <td>2.73</td>\n",
       "      <td>0.15</td>\n",
       "      <td>0.845</td>\n",
       "      <td>Normalize</td>\n",
       "    </tr>\n",
       "    <tr>\n",
       "      <td>16</td>\n",
       "      <td>Extreme Gradient Boost</td>\n",
       "      <td>23.79</td>\n",
       "      <td>0.08</td>\n",
       "      <td>0.839</td>\n",
       "      <td>Normalize</td>\n",
       "    </tr>\n",
       "    <tr>\n",
       "      <td>32</td>\n",
       "      <td>KNN</td>\n",
       "      <td>0.01</td>\n",
       "      <td>0.12</td>\n",
       "      <td>0.8374</td>\n",
       "      <td>Feat Selector RF</td>\n",
       "    </tr>\n",
       "    <tr>\n",
       "      <td>30</td>\n",
       "      <td>KNN</td>\n",
       "      <td>0.02</td>\n",
       "      <td>0.2</td>\n",
       "      <td>0.837</td>\n",
       "      <td>None</td>\n",
       "    </tr>\n",
       "    <tr>\n",
       "      <td>33</td>\n",
       "      <td>KNN</td>\n",
       "      <td>0.02</td>\n",
       "      <td>0.21</td>\n",
       "      <td>0.837</td>\n",
       "      <td>Feat Eng</td>\n",
       "    </tr>\n",
       "    <tr>\n",
       "      <td>34</td>\n",
       "      <td>KNN</td>\n",
       "      <td>0.01</td>\n",
       "      <td>0.12</td>\n",
       "      <td>0.835</td>\n",
       "      <td>Remove Binaries</td>\n",
       "    </tr>\n",
       "    <tr>\n",
       "      <td>17</td>\n",
       "      <td>Extreme Gradient Boost</td>\n",
       "      <td>8.79</td>\n",
       "      <td>0.06</td>\n",
       "      <td>0.831</td>\n",
       "      <td>Feat Selector RF</td>\n",
       "    </tr>\n",
       "    <tr>\n",
       "      <td>3</td>\n",
       "      <td>Decision Trees</td>\n",
       "      <td>0.12</td>\n",
       "      <td>0.0</td>\n",
       "      <td>0.795</td>\n",
       "      <td>Feat Eng</td>\n",
       "    </tr>\n",
       "    <tr>\n",
       "      <td>1</td>\n",
       "      <td>Decision Trees</td>\n",
       "      <td>0.11</td>\n",
       "      <td>0.0</td>\n",
       "      <td>0.787</td>\n",
       "      <td>Normalize</td>\n",
       "    </tr>\n",
       "    <tr>\n",
       "      <td>0</td>\n",
       "      <td>Decision Trees</td>\n",
       "      <td>0.14</td>\n",
       "      <td>0.0</td>\n",
       "      <td>0.783</td>\n",
       "      <td>None</td>\n",
       "    </tr>\n",
       "    <tr>\n",
       "      <td>4</td>\n",
       "      <td>Decision Trees</td>\n",
       "      <td>0.08</td>\n",
       "      <td>0.0</td>\n",
       "      <td>0.775</td>\n",
       "      <td>Remove Binaries</td>\n",
       "    </tr>\n",
       "    <tr>\n",
       "      <td>2</td>\n",
       "      <td>Decision Trees</td>\n",
       "      <td>0.08</td>\n",
       "      <td>0.0</td>\n",
       "      <td>0.768</td>\n",
       "      <td>Feat Selector RF</td>\n",
       "    </tr>\n",
       "    <tr>\n",
       "      <td>21</td>\n",
       "      <td>SVM</td>\n",
       "      <td>9.36</td>\n",
       "      <td>1.56</td>\n",
       "      <td>0.738</td>\n",
       "      <td>Normalize</td>\n",
       "    </tr>\n",
       "    <tr>\n",
       "      <td>26</td>\n",
       "      <td>SVM-2</td>\n",
       "      <td>26.12</td>\n",
       "      <td>2.69</td>\n",
       "      <td>0.696</td>\n",
       "      <td>Normalize</td>\n",
       "    </tr>\n",
       "    <tr>\n",
       "      <td>31</td>\n",
       "      <td>KNN</td>\n",
       "      <td>0.02</td>\n",
       "      <td>0.27</td>\n",
       "      <td>0.6888</td>\n",
       "      <td>Normalize</td>\n",
       "    </tr>\n",
       "    <tr>\n",
       "      <td>25</td>\n",
       "      <td>SVM-2</td>\n",
       "      <td>13.45</td>\n",
       "      <td>1.98</td>\n",
       "      <td>0.042</td>\n",
       "      <td>None</td>\n",
       "    </tr>\n",
       "    <tr>\n",
       "      <td>27</td>\n",
       "      <td>SVM-2</td>\n",
       "      <td>5.6</td>\n",
       "      <td>0.83</td>\n",
       "      <td>0.042</td>\n",
       "      <td>Feat Selector RF</td>\n",
       "    </tr>\n",
       "    <tr>\n",
       "      <td>28</td>\n",
       "      <td>SVM-2</td>\n",
       "      <td>18.62</td>\n",
       "      <td>2.36</td>\n",
       "      <td>0.042</td>\n",
       "      <td>Feat Eng</td>\n",
       "    </tr>\n",
       "    <tr>\n",
       "      <td>29</td>\n",
       "      <td>SVM-2</td>\n",
       "      <td>5.66</td>\n",
       "      <td>0.74</td>\n",
       "      <td>0.042</td>\n",
       "      <td>Remove Binaries</td>\n",
       "    </tr>\n",
       "    <tr>\n",
       "      <td>20</td>\n",
       "      <td>SVM</td>\n",
       "      <td>14.0</td>\n",
       "      <td>2.14</td>\n",
       "      <td>0.038</td>\n",
       "      <td>None</td>\n",
       "    </tr>\n",
       "    <tr>\n",
       "      <td>22</td>\n",
       "      <td>SVM</td>\n",
       "      <td>4.77</td>\n",
       "      <td>0.65</td>\n",
       "      <td>0.038</td>\n",
       "      <td>Feat Selector RF</td>\n",
       "    </tr>\n",
       "    <tr>\n",
       "      <td>23</td>\n",
       "      <td>SVM</td>\n",
       "      <td>12.79</td>\n",
       "      <td>1.99</td>\n",
       "      <td>0.038</td>\n",
       "      <td>Feat Eng</td>\n",
       "    </tr>\n",
       "    <tr>\n",
       "      <td>24</td>\n",
       "      <td>SVM</td>\n",
       "      <td>4.69</td>\n",
       "      <td>0.62</td>\n",
       "      <td>0.038</td>\n",
       "      <td>Remove Binaries</td>\n",
       "    </tr>\n",
       "    <tr>\n",
       "      <td>35</td>\n",
       "      <td>NaN</td>\n",
       "      <td>NaN</td>\n",
       "      <td>NaN</td>\n",
       "      <td>NaN</td>\n",
       "      <td>NaN</td>\n",
       "    </tr>\n",
       "    <tr>\n",
       "      <td>36</td>\n",
       "      <td>NaN</td>\n",
       "      <td>NaN</td>\n",
       "      <td>NaN</td>\n",
       "      <td>NaN</td>\n",
       "      <td>NaN</td>\n",
       "    </tr>\n",
       "    <tr>\n",
       "      <td>37</td>\n",
       "      <td>NaN</td>\n",
       "      <td>NaN</td>\n",
       "      <td>NaN</td>\n",
       "      <td>NaN</td>\n",
       "      <td>NaN</td>\n",
       "    </tr>\n",
       "    <tr>\n",
       "      <td>38</td>\n",
       "      <td>NaN</td>\n",
       "      <td>NaN</td>\n",
       "      <td>NaN</td>\n",
       "      <td>NaN</td>\n",
       "      <td>NaN</td>\n",
       "    </tr>\n",
       "    <tr>\n",
       "      <td>39</td>\n",
       "      <td>NaN</td>\n",
       "      <td>NaN</td>\n",
       "      <td>NaN</td>\n",
       "      <td>NaN</td>\n",
       "      <td>NaN</td>\n",
       "    </tr>\n",
       "    <tr>\n",
       "      <td>40</td>\n",
       "      <td>NaN</td>\n",
       "      <td>NaN</td>\n",
       "      <td>NaN</td>\n",
       "      <td>NaN</td>\n",
       "      <td>NaN</td>\n",
       "    </tr>\n",
       "    <tr>\n",
       "      <td>41</td>\n",
       "      <td>NaN</td>\n",
       "      <td>NaN</td>\n",
       "      <td>NaN</td>\n",
       "      <td>NaN</td>\n",
       "      <td>NaN</td>\n",
       "    </tr>\n",
       "    <tr>\n",
       "      <td>42</td>\n",
       "      <td>NaN</td>\n",
       "      <td>NaN</td>\n",
       "      <td>NaN</td>\n",
       "      <td>NaN</td>\n",
       "      <td>NaN</td>\n",
       "    </tr>\n",
       "    <tr>\n",
       "      <td>43</td>\n",
       "      <td>NaN</td>\n",
       "      <td>NaN</td>\n",
       "      <td>NaN</td>\n",
       "      <td>NaN</td>\n",
       "      <td>NaN</td>\n",
       "    </tr>\n",
       "    <tr>\n",
       "      <td>44</td>\n",
       "      <td>NaN</td>\n",
       "      <td>NaN</td>\n",
       "      <td>NaN</td>\n",
       "      <td>NaN</td>\n",
       "      <td>NaN</td>\n",
       "    </tr>\n",
       "    <tr>\n",
       "      <td>45</td>\n",
       "      <td>NaN</td>\n",
       "      <td>NaN</td>\n",
       "      <td>NaN</td>\n",
       "      <td>NaN</td>\n",
       "      <td>NaN</td>\n",
       "    </tr>\n",
       "    <tr>\n",
       "      <td>46</td>\n",
       "      <td>NaN</td>\n",
       "      <td>NaN</td>\n",
       "      <td>NaN</td>\n",
       "      <td>NaN</td>\n",
       "      <td>NaN</td>\n",
       "    </tr>\n",
       "    <tr>\n",
       "      <td>47</td>\n",
       "      <td>NaN</td>\n",
       "      <td>NaN</td>\n",
       "      <td>NaN</td>\n",
       "      <td>NaN</td>\n",
       "      <td>NaN</td>\n",
       "    </tr>\n",
       "    <tr>\n",
       "      <td>48</td>\n",
       "      <td>NaN</td>\n",
       "      <td>NaN</td>\n",
       "      <td>NaN</td>\n",
       "      <td>NaN</td>\n",
       "      <td>NaN</td>\n",
       "    </tr>\n",
       "    <tr>\n",
       "      <td>49</td>\n",
       "      <td>NaN</td>\n",
       "      <td>NaN</td>\n",
       "      <td>NaN</td>\n",
       "      <td>NaN</td>\n",
       "      <td>NaN</td>\n",
       "    </tr>\n",
       "  </tbody>\n",
       "</table>\n",
       "</div>"
      ],
      "text/plain": [
       "                Model Name Train Time(s) Prediction Time(s) F1 Score  \\\n",
       "14             Extra Trees          7.25                0.3    0.875   \n",
       "13             Extra Trees         11.52                0.3    0.874   \n",
       "10             Extra Trees         12.03                0.3    0.873   \n",
       "11             Extra Trees         12.66                0.4    0.872   \n",
       "12             Extra Trees          7.12               0.31    0.862   \n",
       "9            Random Forest          2.97               0.11    0.853   \n",
       "5            Random Forest          2.67               0.11    0.848   \n",
       "7            Random Forest          2.81               0.11    0.848   \n",
       "8            Random Forest          2.76               0.12    0.848   \n",
       "15  Extreme Gradient Boost         22.42               0.08    0.845   \n",
       "19  Extreme Gradient Boost          8.64               0.06    0.845   \n",
       "18  Extreme Gradient Boost         23.11                0.1    0.845   \n",
       "6            Random Forest          2.73               0.15    0.845   \n",
       "16  Extreme Gradient Boost         23.79               0.08    0.839   \n",
       "32                     KNN          0.01               0.12   0.8374   \n",
       "30                     KNN          0.02                0.2    0.837   \n",
       "33                     KNN          0.02               0.21    0.837   \n",
       "34                     KNN          0.01               0.12    0.835   \n",
       "17  Extreme Gradient Boost          8.79               0.06    0.831   \n",
       "3           Decision Trees          0.12                0.0    0.795   \n",
       "1           Decision Trees          0.11                0.0    0.787   \n",
       "0           Decision Trees          0.14                0.0    0.783   \n",
       "4           Decision Trees          0.08                0.0    0.775   \n",
       "2           Decision Trees          0.08                0.0    0.768   \n",
       "21                     SVM          9.36               1.56    0.738   \n",
       "26                   SVM-2         26.12               2.69    0.696   \n",
       "31                     KNN          0.02               0.27   0.6888   \n",
       "25                   SVM-2         13.45               1.98    0.042   \n",
       "27                   SVM-2           5.6               0.83    0.042   \n",
       "28                   SVM-2         18.62               2.36    0.042   \n",
       "29                   SVM-2          5.66               0.74    0.042   \n",
       "20                     SVM          14.0               2.14    0.038   \n",
       "22                     SVM          4.77               0.65    0.038   \n",
       "23                     SVM         12.79               1.99    0.038   \n",
       "24                     SVM          4.69               0.62    0.038   \n",
       "35                     NaN           NaN                NaN      NaN   \n",
       "36                     NaN           NaN                NaN      NaN   \n",
       "37                     NaN           NaN                NaN      NaN   \n",
       "38                     NaN           NaN                NaN      NaN   \n",
       "39                     NaN           NaN                NaN      NaN   \n",
       "40                     NaN           NaN                NaN      NaN   \n",
       "41                     NaN           NaN                NaN      NaN   \n",
       "42                     NaN           NaN                NaN      NaN   \n",
       "43                     NaN           NaN                NaN      NaN   \n",
       "44                     NaN           NaN                NaN      NaN   \n",
       "45                     NaN           NaN                NaN      NaN   \n",
       "46                     NaN           NaN                NaN      NaN   \n",
       "47                     NaN           NaN                NaN      NaN   \n",
       "48                     NaN           NaN                NaN      NaN   \n",
       "49                     NaN           NaN                NaN      NaN   \n",
       "\n",
       "       Pre-processor  \n",
       "14   Remove Binaries  \n",
       "13          Feat Eng  \n",
       "10              None  \n",
       "11         Normalize  \n",
       "12  Feat Selector RF  \n",
       "9    Remove Binaries  \n",
       "5               None  \n",
       "7   Feat Selector RF  \n",
       "8           Feat Eng  \n",
       "15              None  \n",
       "19   Remove Binaries  \n",
       "18          Feat Eng  \n",
       "6          Normalize  \n",
       "16         Normalize  \n",
       "32  Feat Selector RF  \n",
       "30              None  \n",
       "33          Feat Eng  \n",
       "34   Remove Binaries  \n",
       "17  Feat Selector RF  \n",
       "3           Feat Eng  \n",
       "1          Normalize  \n",
       "0               None  \n",
       "4    Remove Binaries  \n",
       "2   Feat Selector RF  \n",
       "21         Normalize  \n",
       "26         Normalize  \n",
       "31         Normalize  \n",
       "25              None  \n",
       "27  Feat Selector RF  \n",
       "28          Feat Eng  \n",
       "29   Remove Binaries  \n",
       "20              None  \n",
       "22  Feat Selector RF  \n",
       "23          Feat Eng  \n",
       "24   Remove Binaries  \n",
       "35               NaN  \n",
       "36               NaN  \n",
       "37               NaN  \n",
       "38               NaN  \n",
       "39               NaN  \n",
       "40               NaN  \n",
       "41               NaN  \n",
       "42               NaN  \n",
       "43               NaN  \n",
       "44               NaN  \n",
       "45               NaN  \n",
       "46               NaN  \n",
       "47               NaN  \n",
       "48               NaN  \n",
       "49               NaN  "
      ]
     },
     "execution_count": 99,
     "metadata": {},
     "output_type": "execute_result"
    }
   ],
   "source": [
    "model_performance_df.sort_values(by=['F1 Score'], ascending= False)[:50]"
   ]
  },
  {
   "cell_type": "code",
   "execution_count": 102,
   "metadata": {},
   "outputs": [
    {
     "data": {
      "text/plain": [
       "34"
      ]
     },
     "execution_count": 102,
     "metadata": {},
     "output_type": "execute_result"
    }
   ],
   "source": [
    "#model_performance_df['Model Name'].notna()[::-1].idxmax()"
   ]
  },
  {
   "cell_type": "markdown",
   "metadata": {},
   "source": [
    "### Confusion Matrix of best classifier"
   ]
  },
  {
   "cell_type": "markdown",
   "metadata": {},
   "source": [
    "Get a Confusion Matrix for the best performing classifier, which is Extra Trees"
   ]
  },
  {
   "cell_type": "code",
   "execution_count": 103,
   "metadata": {},
   "outputs": [
    {
     "data": {
      "image/png": "[encoded data removed]",
      "text/plain": [
       "<Figure size 720x720 with 1 Axes>"
      ]
     },
     "metadata": {
      "needs_background": "light"
     },
     "output_type": "display_data"
    }
   ],
   "source": [
    "ExtraTree_clf = ExtraTreesClassifier(max_features=0.8, max_depth = 30, n_estimators=500)\n",
    "\n",
    "ExtraTree_clf.fit(train_data_rem_bin, train_data_label) # Fitting the train data to the classifier   \n",
    "    # Make prediction on dev data\n",
    "    \n",
    "pred = ExtraTree_clf.predict(dev_data_rem_bin)\n",
    "    \n",
    "\n",
    "#y_pred_prob = knn_model.predict_proba(dev_data)\n",
    "\n",
    "        \n",
    "cm = confusion_matrix(dev_data_label, pred)\n",
    "fig, ax = plt.subplots(figsize=(10, 10))\n",
    "ax.imshow(cm)\n",
    "ax.grid(False)\n",
    "ax.set_xlabel('Predicted outputs', fontsize=12, color='black')\n",
    "ax.set_ylabel('Actual outputs', fontsize=12, color='black')\n",
    "ax.xaxis.set(ticks=range(7))\n",
    "ax.yaxis.set(ticks=range(7))\n",
    "ax.set_ylim(6.5, -0.5)\n",
    "for i in range(7):\n",
    "    for j in range(7):\n",
    "        ax.text(j, i, cm[i, j], ha='center', va='center', color='white')\n",
    "plt.show()\n",
    "\n"
   ]
  },
  {
   "cell_type": "markdown",
   "metadata": {},
   "source": [
    "The best performing model still seems to mostly confuse 1s and 2s. We can find the best model for the dataset filtered by 1 and 2 Cover Types only, and then do an ensemble"
   ]
  },
  {
   "cell_type": "markdown",
   "metadata": {},
   "source": [
    "### Remove binaries + extra trees --> anything labeled 0 or 1 --> run again?"
   ]
  },
  {
   "cell_type": "markdown",
   "metadata": {},
   "source": [
    "Build Ensemble: Extra Trees -- if label 1 or 2 then re run again and use the one of highest prob?"
   ]
  },
  {
   "cell_type": "code",
   "execution_count": null,
   "metadata": {},
   "outputs": [],
   "source": [
    "ExtraTree_clf = ExtraTreesClassifier(max_features=0.8, max_depth = 30, n_estimators=500)\n",
    "\n",
    "ExtraTree_clf.fit(train_data2, train_data_label2) # Fitting the train data to the classifier   \n",
    "# Make prediction on dev data\n",
    "log_probs_12 = ExtraTree_clf.predict_log_proba(dev_data2)\n",
    "\n",
    "\n",
    "pred = ExtraTree_clf.predict(dev_data2)\n",
    "print(pred[:10])\n",
    "# Store metrics\n",
    "dev_f1 = round(metrics.f1_score(dev_data_label2, pred, average='macro'), 3)\n",
    "print(\"F1 score of Extra Trees = \" + str(dev_f1))\n"
   ]
  },
  {
   "cell_type": "code",
   "execution_count": 136,
   "metadata": {},
   "outputs": [
    {
     "name": "stdout",
     "output_type": "stream",
     "text": [
      "0.272\n"
     ]
    },
    {
     "name": "stderr",
     "output_type": "stream",
     "text": [
      "/Users/shalac/opt/anaconda3/lib/python3.7/site-packages/sklearn/metrics/classification.py:1437: UndefinedMetricWarning: F-score is ill-defined and being set to 0.0 in labels with no predicted samples.\n",
      "  'precision', 'predicted', average, warn_for)\n"
     ]
    }
   ],
   "source": [
    "from sklearn import model_selection\n",
    "from sklearn.ensemble import AdaBoostClassifier\n",
    "\n",
    "\n",
    "#kfold = model_selection.KFold(n_splits=10)\n",
    "ADB_clf = AdaBoostClassifier(n_estimators=30)\n",
    "model = ADB_clf.fit(train_data, train_data_label)\n",
    "y_pred = model.predict(dev_data)\n",
    "#score1= ADB_clf.score(pred, dev_data_label)\n",
    "#print(score1)\n",
    "dev_f1 = round(metrics.f1_score(dev_data_label, y_pred, average='macro'), 3)\n",
    "print(dev_f1)"
   ]
  },
  {
   "cell_type": "code",
   "execution_count": null,
   "metadata": {},
   "outputs": [],
   "source": []
  }
 ],
 "metadata": {
  "kernelspec": {
   "display_name": "Python 3",
   "language": "python",
   "name": "python3"
  },
  "language_info": {
   "codemirror_mode": {
    "name": "ipython",
    "version": 3
   },
   "file_extension": ".py",
   "mimetype": "text/x-python",
   "name": "python",
   "nbconvert_exporter": "python",
   "pygments_lexer": "ipython3",
   "version": "3.7.4"
  }
 },
 "nbformat": 4,
 "nbformat_minor": 4
}
